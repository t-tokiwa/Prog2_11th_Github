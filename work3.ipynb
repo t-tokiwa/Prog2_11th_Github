{
  "nbformat": 4,
  "nbformat_minor": 0,
  "metadata": {
    "colab": {
      "provenance": [],
      "authorship_tag": "ABX9TyMmfvLVgHaK/bB5GLClMkGT",
      "include_colab_link": true
    },
    "kernelspec": {
      "name": "python3",
      "display_name": "Python 3"
    },
    "language_info": {
      "name": "python"
    }
  },
  "cells": [
    {
      "cell_type": "markdown",
      "metadata": {
        "id": "view-in-github",
        "colab_type": "text"
      },
      "source": [
        "<a href=\"https://colab.research.google.com/github/Hatakun/Prog2_11th/blob/main/work3.ipynb\" target=\"_parent\"><img src=\"https://colab.research.google.com/assets/colab-badge.svg\" alt=\"Open In Colab\"/></a>"
      ]
    },
    {
      "cell_type": "code",
      "execution_count": null,
      "metadata": {
        "id": "FbwbO7-VJLfC"
      },
      "outputs": [],
      "source": [
        "import numpy as np\n",
        "import cv2 , sys\n",
        "from google.colab.patches import cv2_imshow\n",
        "print('画像のファイルの名前を拡張子付きで入力してください')\n",
        "#画像の名前を取得\n",
        "img1_name = input('名前を入力してください')\n",
        "img2_name = input('名前を入力してください')\n",
        "\n",
        "#画像の読み込み\n",
        "img1 = cv2.imread(img1_name)\n",
        "img2 = cv2.imread(img2_name)\n",
        "\n",
        "\n",
        "if img1 is None:\n",
        "  sys.exit(f'エラー：ファイルを開けませんでした{img1_name}')\n",
        "\n",
        "if img2 is None:\n",
        "  sys.exit(f'エラー：ファイルを開けませんでした{img2_name}')\n",
        "\n",
        "if img1.shape != img2.shape:\n",
        "  c1 = img1.shape[1]/img1.shape[0]\n",
        "  c2 = img2.shape[1]/img2.shape[0]\n",
        "\n",
        "  if c1 != c2:\n",
        "    sys.print('画像の縦横比が違うので比較できません')\n",
        "\n"
      ]
    }
  ]
}