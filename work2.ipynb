{
  "nbformat": 4,
  "nbformat_minor": 0,
  "metadata": {
    "colab": {
      "provenance": [],
      "authorship_tag": "ABX9TyOII6zuOCl4VS8HFwZqoqHk",
      "include_colab_link": true
    },
    "kernelspec": {
      "name": "python3",
      "display_name": "Python 3"
    },
    "language_info": {
      "name": "python"
    }
  },
  "cells": [
    {
      "cell_type": "markdown",
      "metadata": {
        "id": "view-in-github",
        "colab_type": "text"
      },
      "source": [
        "<a href=\"https://colab.research.google.com/github/herb171/Prog2_11th/blob/main/work2.ipynb\" target=\"_parent\"><img src=\"https://colab.research.google.com/assets/colab-badge.svg\" alt=\"Open In Colab\"/></a>"
      ]
    },
    {
      "cell_type": "markdown",
      "source": [
        "#数字当てゲーム\n",
        "プログラムで生成する数字を当てるゲームです.\n",
        "\n",
        "\n",
        "まず,ユーザーは0以上10未満の整数を予想し入力します.\n",
        "\n",
        "\n",
        "ランダムに生成された数字と予想した数字が合っていれば1ポイント獲得でき,異なっている場合は1ポイント減少します.\n",
        "\n",
        "\n",
        "このゲームを５回行い,より多くのポイントを獲得しましょう."
      ],
      "metadata": {
        "id": "SpvLz53HVkAz"
      }
    },
    {
      "cell_type": "code",
      "execution_count": 15,
      "metadata": {
        "colab": {
          "base_uri": "https://localhost:8080/"
        },
        "id": "qL0KztGTRG8y",
        "outputId": "acd8990e-02f3-469a-beea-af3e93dfeea8"
      },
      "outputs": [
        {
          "output_type": "stream",
          "name": "stdout",
          "text": [
            "\\数字当てゲーム/\n",
            "\n",
            "1回目\n",
            "0以上10未満の整数を予想して入力してください:1\n",
            "生成した数字は [9] です\n",
            "\n",
            "あなたが予想した数字は外れていました.\n",
            "1ポイント減少\n",
            "現在のポイント: -1ポイント\n",
            "\n",
            "\n",
            "2回目\n",
            "0以上10未満の整数を予想して入力してください:1\n",
            "生成した数字は [6] です\n",
            "\n",
            "あなたが予想した数字は外れていました.\n",
            "1ポイント減少\n",
            "現在のポイント: -2ポイント\n",
            "\n",
            "\n",
            "3回目\n",
            "0以上10未満の整数を予想して入力してください:1\n",
            "生成した数字は [2] です\n",
            "\n",
            "あなたが予想した数字は外れていました.\n",
            "1ポイント減少\n",
            "現在のポイント: -3ポイント\n",
            "\n",
            "\n",
            "4回目\n",
            "0以上10未満の整数を予想して入力してください:1\n",
            "生成した数字は [5] です\n",
            "\n",
            "あなたが予想した数字は外れていました.\n",
            "1ポイント減少\n",
            "現在のポイント: -4ポイント\n",
            "\n",
            "\n",
            "5回目\n",
            "0以上10未満の整数を予想して入力してください:1\n",
            "生成した数字は [5] です\n",
            "\n",
            "あなたが予想した数字は外れていました.\n",
            "1ポイント減少\n",
            "現在のポイント: -5ポイント\n",
            "\n",
            "\n",
            "結果: -5ポイント\n"
          ]
        }
      ],
      "source": [
        "#数字当てゲーム\n",
        "\n",
        "import numpy as np\n",
        "\n",
        "print('\\数字当てゲーム/\\n')\n",
        "\n",
        "\n",
        "#ユーザーのポイント\n",
        "point = 0\n",
        "\n",
        "for i in range(5): #ゲームを5回繰り返す\n",
        "\n",
        "  print( str(i+1) + '回目')\n",
        "\n",
        "  #予想する数字を入力\n",
        "  user_num = int(input('0以上10未満の整数を予想して入力してください:'))\n",
        "\n",
        "\n",
        "  #エラー対応\n",
        "  #user_numが整数でないとき\n",
        "  if type(user_num) != int:\n",
        "    print('もう一度このプログラムを実行して,整数を入力してください.')\n",
        "\n",
        "  #user_numが0以下のとき\n",
        "  if user_num < 0:\n",
        "    print('もう一度このプログラムを実行して,0以上10未満の整数を入力してください')\n",
        "\n",
        "  #user_numが10以上のとき\n",
        "  if user_num >= 10:\n",
        "    print('もう一度このプログラムを実行して,0以上10未満の整数を入力してください')\n",
        "\n",
        "\n",
        "  #0以上10未満の乱数を1つ生成\n",
        "  com_num = np.random.randint(0, 10, 1)\n",
        "  print('生成した数字は', str(com_num), 'です\\n')\n",
        "\n",
        "\n",
        "\n",
        "  #user_numとcom_numが等しいとき1ポイント獲得\n",
        "  if user_num == com_num:\n",
        "    print('あなたが予想した数字は当たっていました.\\n1ポイント獲得!')\n",
        "    point += 1\n",
        "    print('現在のポイント:', str(point) + 'ポイント\\n\\n') #現在のポイントを表示\n",
        "\n",
        "  else:\n",
        "    print('あなたが予想した数字は外れていました.\\n1ポイント減少')\n",
        "    point += -1\n",
        "    print('現在のポイント:', str(point) + 'ポイント\\n\\n') #現在のポイントを表示\n",
        "\n",
        "print('結果:', str(point) + 'ポイント')\n"
      ]
    }
  ]
}