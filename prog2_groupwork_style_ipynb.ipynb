{
  "nbformat": 4,
  "nbformat_minor": 0,
  "metadata": {
    "colab": {
      "provenance": [],
      "name": "prog2_groupwork-style-ipynb",
      "include_colab_link": true
    },
    "kernelspec": {
      "name": "python3",
      "display_name": "Python 3"
    },
    "language_info": {
      "name": "python"
    }
  },
  "cells": [
    {
      "cell_type": "markdown",
      "metadata": {
        "id": "view-in-github",
        "colab_type": "text"
      },
      "source": [
        "<a href=\"https://colab.research.google.com/github/Kujiranodaifuku/Prog2_11th/blob/2024/prog2_groupwork_style_ipynb.ipynb\" target=\"_parent\"><img src=\"https://colab.research.google.com/assets/colab-badge.svg\" alt=\"Open In Colab\"/></a>"
      ]
    },
    {
      "cell_type": "markdown",
      "source": [
        "# 使い方\n",
        "\n",
        "*   グループワーク用のひな形（テンプレート）です．ドライブにコピーをして保存後，ファイル名を変更して使用してください．必要に応じて，コードやコメントのセルを追加して使用してください．\n",
        "*   この使い方のテキストのセルや各セルのコメントは削除して，使用してください．"
      ],
      "metadata": {
        "id": "rJhDTipMPFGh"
      }
    },
    {
      "cell_type": "markdown",
      "source": [
        "# はじめに\n",
        "\n",
        "ここに自分の班番号と班員の学籍番号，氏名を全て記入してください，欠席した班員がいる場合は，（欠席）と表記してください．班員情報が無い場合，課題の評価が行われない可能性があります．\n",
        "\n",
        "2420135 長尾　孝依\n",
        "\n",
        "2420146 西村　光生\n",
        "\n",
        "2420138 中村　樹"
      ],
      "metadata": {
        "id": "cwIfC0QZQEZa"
      }
    },
    {
      "cell_type": "markdown",
      "source": [
        "# 問題1（初級）\n",
        "\n",
        "キーボードから入力された整数を読み込み偶数・奇数判定するプログラムを作成しなさい．\n",
        "\n",
        "中村　樹"
      ],
      "metadata": {
        "id": "vJuD8pFRFZYI"
      }
    },
    {
      "cell_type": "code",
      "execution_count": null,
      "metadata": {
        "id": "OwHmC1mnFRKN"
      },
      "outputs": [],
      "source": [
        "# ここに解答または解答例を記入する\n",
        "a=input('整数は？')\n",
        "if int(a)%2==0:\n",
        "  print(f'入力された数字{a}は偶数です')\n",
        "else:\n",
        "  print(f'入力された数字'{a}'は奇数です')"
      ]
    },
    {
      "cell_type": "markdown",
      "source": [
        "## 問題1解説\n",
        "解説はここに記入する．\n",
        "\n",
        "* 解説の執筆者の氏名を問題末尾に記入して下さい．複数人で作成した場合は連名で構いません．"
      ],
      "metadata": {
        "id": "kal4elnlL_qX"
      }
    },
    {
      "cell_type": "markdown",
      "source": [
        "---\n",
        "# 問題2（中級）\n",
        "\n",
        "ここに問題を記入する．\n",
        "\n",
        "* 問題提案者の氏名を問題末尾に記入して下さい．複数人で作成した場合は連名で構いません．\n",
        "\n",
        "3桁の整数の中に19の倍数をカウントし、表示してください。また、その総和も表示してください。\n",
        "\n",
        "2420146 西村光生"
      ],
      "metadata": {
        "id": "Emsxxb6mFxPK"
      }
    },
    {
      "cell_type": "code",
      "source": [
        "# ここに解答または解答例を記入する\n",
        "a = 0\n",
        "b = 0\n",
        "for x in range(100,1000):\n",
        "  if x%19==0:\n",
        "    a+=1\n",
        "    b+=x\n",
        "print('3桁の整数の中に19の倍数は,',str(a)+'個あります')\n",
        "print('その総和は'+str(b))\n"
      ],
      "metadata": {
        "id": "CRXOJbsYFyUX"
      },
      "execution_count": null,
      "outputs": []
    },
    {
      "cell_type": "markdown",
      "source": [
        "## 問題2解説\n",
        "解説はここに記入する．\n",
        "\n",
        "* 解説の執筆者の氏名を問題末尾に記入して下さい．複数人で作成した場合は連名で構いません．\n",
        "\n"
      ],
      "metadata": {
        "id": "KiOvfBs2MfOW"
      }
    },
    {
      "cell_type": "markdown",
      "source": [
        "---\n",
        "# 問題3（上級）\n",
        "\n",
        "ここに問題を記入する．\n",
        "\n",
        "* 問題提案者の氏名を問題末尾に記入して下さい．複数人で作成した場合は連名で構いません．\n",
        "\n"
      ],
      "metadata": {
        "id": "YbyVRA8RFxcM"
      }
    },
    {
      "cell_type": "code",
      "source": [
        "# ここに解答または解答例を記入する\n",
        "import random\n",
        "\n",
        "word_list = ['watch','house','beach','bread','chair','light','money','heart','water','river']\n",
        "\n",
        "ans = random.choice(word_list)\n",
        "\n",
        "print('hit&blowゲーム')\n",
        "\n",
        "for i  in range (1,7):\n",
        "  if i == 6 :\n",
        "    print('入力制限の6回に達しました. ゲーム終了です')\n",
        "    print('正解は'+ans+'でした')\n",
        "  else:\n",
        "    print('第',str(i),'手目：5文字の重複しない英単語を入力してください.',sep='')\n",
        "    n=input()\n",
        "    n_list=[]\n",
        "    hit=0\n",
        "    blow=0\n",
        "    if len(n) != 5 :\n",
        "      print('5文字の英単語を入力してください')\n",
        "    else:\n",
        "      for s in range(5):\n",
        "        n_list.append(n[s])\n",
        "      if len(n_list) != len(set(n_list)):\n",
        "        print('アルファベットが重複しています')\n",
        "      elif ans == n:\n",
        "        print('Hit!')\n",
        "        print('答えは'+ans+'でした')\n",
        "        break\n",
        "      else:\n",
        "        for t in range(5):\n",
        "          if n_list[t]==ans[t]:\n",
        "            hit=hit+1\n",
        "            continue\n",
        "          for u in range(5):\n",
        "            if n_list[t]==ans[u]:\n",
        "              blow=blow+1\n",
        "        print('hit='+str(hit)+',blow='+str(blow))\n"
      ],
      "metadata": {
        "id": "k8lP75XSFzKH",
        "colab": {
          "base_uri": "https://localhost:8080/"
        },
        "outputId": "309d5c03-49aa-4e84-9816-aa42ef8f5cff"
      },
      "execution_count": null,
      "outputs": [
        {
          "output_type": "stream",
          "name": "stdout",
          "text": [
            "beach\n",
            "hit&blowゲーム\n",
            "第1手目：5文字の重複しない英単語を入力してください.\n",
            "asdfg\n",
            "hit=0,blow=1\n",
            "第2手目：5文字の重複しない英単語を入力してください.\n",
            "qwert\n",
            "hit=0,blow=1\n",
            "第3手目：5文字の重複しない英単語を入力してください.\n",
            "zxcvb\n",
            "hit=0,blow=2\n",
            "第4手目：5文字の重複しない英単語を入力してください.\n",
            "mnbvc\n",
            "hit=0,blow=2\n",
            "第5手目：5文字の重複しない英単語を入力してください.\n",
            "kjhgf\n",
            "hit=0,blow=1\n",
            "入力制限の6回に達しました. ゲーム終了です\n",
            "正解はbeachでした\n"
          ]
        }
      ]
    },
    {
      "cell_type": "markdown",
      "source": [
        "## 問題3解説\n",
        "解説はここに記入する．\n",
        "\n",
        "* 解説の執筆者の氏名を問題末尾に記入して下さい．複数人で作成した場合は連名で構いません．\n"
      ],
      "metadata": {
        "id": "xTMQ7LZxMmTb"
      }
    },
    {
      "cell_type": "markdown",
      "source": [
        "---\n",
        "# 質問1（課題作成者（グループ）として回答，要署名）\n",
        "\n",
        "作成した問題をどのように考えて初級・中級・上級に割り当てたか，その理由を回答欄に記入すること．"
      ],
      "metadata": {
        "id": "ghA1unOrZPz8"
      }
    },
    {
      "cell_type": "markdown",
      "source": [
        "## 回答欄（質問1）\n",
        "\n",
        "最近やったものは資料が必要なものが多いので簡単なものはプログラミング２でやったものを考えると１の振り返りが初級としてふさわしいと思ったのでプログラミング２第一回の演習問題をそのままとってきました。\n",
        "中村　樹\n"
      ],
      "metadata": {
        "id": "aNL_ZQ68Zsh8"
      }
    },
    {
      "cell_type": "markdown",
      "source": [
        "---\n",
        "# 質問2（相手の課題への解答者（個人）として回答）\n",
        "\n",
        "問題1～3を解答して，勉強になった点や身に付いた点などを回答欄に記入すること．"
      ],
      "metadata": {
        "id": "w8gdv8SRorcA"
      }
    },
    {
      "cell_type": "markdown",
      "source": [
        "## 回答欄（質問2）\n",
        "\n",
        "ここに質問2の回答を記入して下さい．"
      ],
      "metadata": {
        "id": "9Zqiw6TNpn3Q"
      }
    },
    {
      "cell_type": "markdown",
      "source": [
        "---\n",
        "# 注意事項　提出について\n",
        "以下の手順で提出すること．\n",
        "\n",
        "* メニューの「ファイル」-「ドライブにコピーを保存」を選択し，自分のGoogleドライブに課題を保存する．\n",
        "* メニューの「ファイル」-「ダウンロード」-「.ipynbファイルをダウンロード」を選択し，提出用ファイル(例えばProg2_GroupWork.ipynb)をダウンロードする．\n",
        "* ファイル名を次のように変更する．ファイル名にはプログラミングIIの週の数字を入れること．例えば，第11週であれば以下のように指定する．\n",
        "1. 自分の班で作成した問題と解説のファイルは「(学籍番号)-Prog2_11_QandA.ipynb」\n",
        "2. 相手グループの問題を解答したファイルは，「(学籍番号)-Prog2_11_kadai.ipynb」\n",
        "* unipaの所定の場所で提出する．上記1と2のファイルの提出先が異なるので，注意すること．\n",
        "* 上記1，2ともに，個人で提出する課題です．"
      ],
      "metadata": {
        "id": "HHn948WCNHn3"
      }
    }
  ]
}