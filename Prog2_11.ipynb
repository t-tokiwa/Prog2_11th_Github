{
 "cells": [
  {
   "cell_type": "markdown",
   "metadata": {
    "colab_type": "text",
    "id": "view-in-github"
   },
   "source": [
    "<a href=\"https://colab.research.google.com/github/t-tokiwa/Prog2_11th/blob/2024/Prog2_11.ipynb\" target=\"_parent\"><img src=\"https://colab.research.google.com/assets/colab-badge.svg\" alt=\"Open In Colab\"/></a>"
   ]
  },
  {
   "cell_type": "markdown",
   "metadata": {
    "id": "tgWdmF8vWnQQ"
   },
   "source": [
    "# プログラミングII 第11回 演習　課題２\n",
    "\n",
    "* pythonプログラムの問題を自作し，その解答例も含めて所定の場所に書き込んでください．\n",
    "* 問題は１問とし，小問などは設けないでください．\n",
    "* 作成する問題とその解答は，unipaの「学籍番号と問題番号対応表」に掲載されている自分の学籍番号に割り当てられた問題番号の所に記入してください．それ以外の箇所は変更しないでください．\n",
    "* 今週の課題はGitの操作を体験することに重点を置いています．自作する問題の難易度は問いませんし，回答が間違っていても減点はしません\n",
    "\n",
    "* 作成した問題とその回答例を記入したファイル（Prog2_11.ipynb)をGitHubにコピーし，GitHubよりこのアカウントに対してpull requestしてください．\n",
    "* 提出先は通常のunipaではありませんので注意してください\n",
    "* ファイル名は変更せず，Prog2_11.ipynbとしてください\n",
    "* GitHubにてpull requestされた課題に対して，担当教員がマージします．\n",
    "\n"
   ]
  },
  {
   "cell_type": "markdown",
   "metadata": {
    "id": "yJIJfuDOxJIs"
   },
   "source": [
    "# 第1問～第49問"
   ]
  },
  {
   "cell_type": "markdown",
   "metadata": {
    "id": "I0gzycS0Cb3X"
   },
   "source": [
    "第1問\n",
    "次の問題に答えなさい\n",
    "\n",
    "(ここから以降に自作問題を書いてください)"
   ]
  },
  {
   "cell_type": "code",
   "execution_count": null,
   "metadata": {
    "id": "MUa6kyHGCb3k"
   },
   "outputs": [],
   "source": [
    "# ここに自作問題の回答（pythonプログラム）を書いてください"
   ]
  },
  {
   "cell_type": "markdown",
   "metadata": {
    "id": "K2tf-R8yCdNX"
   },
   "source": [
    "第2問\n",
    "次の問題に答えなさい\n",
    "\n",
    "(ここから以降に自作問題を書いてください)"
   ]
  },
  {
   "cell_type": "code",
   "execution_count": null,
   "metadata": {
    "id": "afREmPSRCdNY"
   },
   "outputs": [],
   "source": [
    "# ここに自作問題の回答（pythonプログラム）を書いてください"
   ]
  },
  {
   "cell_type": "markdown",
   "metadata": {
    "id": "9obvht7nCd3_"
   },
   "source": [
    "第3問\n",
    "次の問題に答えなさい\n",
    "\n",
    "(ここから以降に自作問題を書いてください)"
   ]
  },
  {
   "cell_type": "code",
   "execution_count": null,
   "metadata": {
    "id": "wzQihgGZCd4B"
   },
   "outputs": [],
   "source": [
    "# ここに自作問題の回答（pythonプログラム）を書いてください"
   ]
  },
  {
   "cell_type": "markdown",
   "metadata": {
    "id": "AqR0On24CfKE"
   },
   "source": [
    "第4問\n",
    "次の問題に答えなさい\n",
    "\n",
    "(ここから以降に自作問題を書いてください)"
   ]
  },
  {
   "cell_type": "code",
   "execution_count": null,
   "metadata": {
    "id": "lKcw5vdwCfKE"
   },
   "outputs": [],
   "source": [
    "# ここに自作問題の回答（pythonプログラム）を書いてください"
   ]
  },
  {
   "cell_type": "markdown",
   "metadata": {
    "id": "uftUYUlWCggP"
   },
   "source": [
    "第5問\n",
    "次の問題に答えなさい\n",
    "\n",
    "(ここから以降に自作問題を書いてください)"
   ]
  },
  {
   "cell_type": "code",
   "execution_count": null,
   "metadata": {
    "id": "BAfurpM0CggQ"
   },
   "outputs": [],
   "source": [
    "# ここに自作問題の回答（pythonプログラム）を書いてください"
   ]
  },
  {
   "cell_type": "markdown",
   "metadata": {
    "id": "sK_9Xrs-Cjwg"
   },
   "source": [
    "第6問\n",
    "次の問題に答えなさい\n",
    "\n",
    "(ここから以降に自作問題を書いてください)"
   ]
  },
  {
   "cell_type": "code",
   "execution_count": null,
   "metadata": {
    "id": "IXqgk3C0Cjwg"
   },
   "outputs": [],
   "source": [
    "# ここに自作問題の回答（pythonプログラム）を書いてください"
   ]
  },
  {
   "cell_type": "markdown",
   "metadata": {
    "id": "xI5mhdenCkBQ"
   },
   "source": [
    "第7問\n",
    "次の問題に答えなさい\n",
    "\n",
    "(ここから以降に自作問題を書いてください)"
   ]
  },
  {
   "cell_type": "code",
   "execution_count": null,
   "metadata": {
    "id": "-jhcQeKMCkBR"
   },
   "outputs": [],
   "source": [
    "# ここに自作問題の回答（pythonプログラム）を書いてください"
   ]
  },
  {
   "cell_type": "markdown",
   "metadata": {
    "id": "K7PUOjL4CkQH"
   },
   "source": [
    "第8問\n",
    "次の問題に答えなさい\n",
    "\n",
    "(ここから以降に自作問題を書いてください)"
   ]
  },
  {
   "cell_type": "code",
   "execution_count": null,
   "metadata": {
    "id": "9qyNF94ZCkQH"
   },
   "outputs": [],
   "source": [
    "# ここに自作問題の回答（pythonプログラム）を書いてください"
   ]
  },
  {
   "cell_type": "markdown",
   "metadata": {
    "id": "ZyL18TdoCkaP"
   },
   "source": [
    "第9問\n",
    "次の問題に答えなさい\n",
    "\n",
    "(ここから以降に自作問題を書いてください)"
   ]
  },
  {
   "cell_type": "code",
   "execution_count": null,
   "metadata": {
    "id": "LFz94-gfCkaP"
   },
   "outputs": [],
   "source": [
    "# ここに自作問題の回答（pythonプログラム）を書いてください"
   ]
  },
  {
   "cell_type": "markdown",
   "metadata": {
    "id": "1Y3dwztDCkfn"
   },
   "source": [
    "第10問\n",
    "次の問題に答えなさい\n",
    "\n",
    "(ここから以降に自作問題を書いてください)"
   ]
  },
  {
   "cell_type": "code",
   "execution_count": null,
   "metadata": {
    "id": "aWWF5oS3Ckfo"
   },
   "outputs": [],
   "source": [
    "# ここに自作問題の回答（pythonプログラム）を書いてください"
   ]
  },
  {
   "cell_type": "markdown",
   "metadata": {
    "id": "cDbhQXFaCkkn"
   },
   "source": [
    "第11問\n",
    "次の問題に答えなさい\n",
    "\n",
    "(ここから以降に自作問題を書いてください)"
   ]
  },
  {
   "cell_type": "code",
   "execution_count": null,
   "metadata": {
    "id": "GCWLJcB1Ckkn"
   },
   "outputs": [],
   "source": [
    "# ここに自作問題の回答（pythonプログラム）を書いてください"
   ]
  },
  {
   "cell_type": "markdown",
   "metadata": {
    "id": "zUYjdroXCkof"
   },
   "source": [
    "第12問\n",
    "次の問題に答えなさい\n",
    "\n",
    "(ここから以降に自作問題を書いてください)"
   ]
  },
  {
   "cell_type": "code",
   "execution_count": null,
   "metadata": {
    "id": "qAiDLWyoCkog"
   },
   "outputs": [],
   "source": [
    "# ここに自作問題の回答（pythonプログラム）を書いてください"
   ]
  },
  {
   "cell_type": "markdown",
   "metadata": {
    "id": "rWCQnRlyCktP"
   },
   "source": [
    "第13問\n",
    "次の問題に答えなさい\n",
    "\n",
    "(ここから以降に自作問題を書いてください)"
   ]
  },
  {
   "cell_type": "code",
   "execution_count": null,
   "metadata": {
    "id": "jLb9HRMsCktP"
   },
   "outputs": [],
   "source": [
    "# ここに自作問題の回答（pythonプログラム）を書いてください"
   ]
  },
  {
   "cell_type": "markdown",
   "metadata": {
    "id": "GW_2ywUyCkxI"
   },
   "source": [
    "第14問\n",
    "次の問題に答えなさい\n",
    "\n",
    "(ここから以降に自作問題を書いてください)"
   ]
  },
  {
   "cell_type": "code",
   "execution_count": null,
   "metadata": {
    "id": "RRuGJ-hHCkxI"
   },
   "outputs": [],
   "source": [
    "# ここに自作問題の回答（pythonプログラム）を書いてください"
   ]
  },
  {
   "cell_type": "markdown",
   "metadata": {
    "id": "O67PA_m-Ck1o"
   },
   "source": [
    "第15問\n",
    "次の問題に答えなさい\n",
    "\n",
    "(ここから以降に自作問題を書いてください)"
   ]
  },
  {
   "cell_type": "code",
   "execution_count": null,
   "metadata": {
    "id": "-JNJEeGgCk1p"
   },
   "outputs": [],
   "source": [
    "# ここに自作問題の回答（pythonプログラム）を書いてください"
   ]
  },
  {
   "cell_type": "markdown",
   "metadata": {
    "id": "9vIvb4XhCk6U"
   },
   "source": [
    "第16問\n",
    "次の問題に答えなさい\n",
    "\n",
    "(ここから以降に自作問題を書いてください)"
   ]
  },
  {
   "cell_type": "code",
   "execution_count": null,
   "metadata": {
    "id": "lnUxuE0VCk6V"
   },
   "outputs": [],
   "source": [
    "# ここに自作問題の回答（pythonプログラム）を書いてください"
   ]
  },
  {
   "cell_type": "markdown",
   "metadata": {
    "id": "ZSdaCy7XCk9_"
   },
   "source": [
    "第17問\n",
    "次の問題に答えなさい\n",
    "\n",
    "(ここから以降に自作問題を書いてください)"
   ]
  },
  {
   "cell_type": "code",
   "execution_count": null,
   "metadata": {
    "id": "gKatqL2mCk-A"
   },
   "outputs": [],
   "source": [
    "# ここに自作問題の回答（pythonプログラム）を書いてください"
   ]
  },
  {
   "cell_type": "markdown",
   "metadata": {
    "id": "sHuGxC_jClCA"
   },
   "source": [
    "第18問\n",
    "次の問題に答えなさい\n",
    "\n",
    "(ここから以降に自作問題を書いてください)"
   ]
  },
  {
   "cell_type": "code",
   "execution_count": null,
   "metadata": {
    "id": "KKqOyxsrClCA"
   },
   "outputs": [],
   "source": [
    "# ここに自作問題の回答（pythonプログラム）を書いてください"
   ]
  },
  {
   "cell_type": "markdown",
   "metadata": {
    "id": "Tm9cafyHClF_"
   },
   "source": [
    "第19問\n",
    "次の問題に答えなさい\n",
    "\n",
    "(ここから以降に自作問題を書いてください)"
   ]
  },
  {
   "cell_type": "code",
   "execution_count": null,
   "metadata": {
    "id": "Xtz6iGOWClF_"
   },
   "outputs": [],
   "source": [
    "# ここに自作問題の回答（pythonプログラム）を書いてください"
   ]
  },
  {
   "cell_type": "markdown",
   "metadata": {
    "id": "hrVA0qSGClKE"
   },
   "source": [
    "第20問\n",
    "次の問題に答えなさい\n",
    "\n",
    "(ここから以降に自作問題を書いてください)"
   ]
  },
  {
   "cell_type": "code",
   "execution_count": null,
   "metadata": {
    "id": "qMhW2kTFClKE"
   },
   "outputs": [],
   "source": [
    "# ここに自作問題の回答（pythonプログラム）を書いてください"
   ]
  },
  {
   "cell_type": "markdown",
   "metadata": {
    "id": "aNa2FPXmClOH"
   },
   "source": [
    "第21問\n",
    "次の問題に答えなさい\n",
    "\n",
    "(ここから以降に自作問題を書いてください)"
   ]
  },
  {
   "cell_type": "code",
   "execution_count": null,
   "metadata": {
    "id": "BKOvcfXlClOH"
   },
   "outputs": [],
   "source": [
    "# ここに自作問題の回答（pythonプログラム）を書いてください"
   ]
  },
  {
   "cell_type": "markdown",
   "metadata": {
    "id": "X84zzmeyClRu"
   },
   "source": [
    "第22問\n",
    "次の問題に答えなさい\n",
    "\n",
    "(ここから以降に自作問題を書いてください)"
   ]
  },
  {
   "cell_type": "code",
   "execution_count": null,
   "metadata": {
    "id": "c_biM36pClRu"
   },
   "outputs": [],
   "source": [
    "# ここに自作問題の回答（pythonプログラム）を書いてください"
   ]
  },
  {
   "cell_type": "markdown",
   "metadata": {
    "id": "-C4Uuuv3ClVv"
   },
   "source": [
    "第23問\n",
    "次の問題に答えなさい\n",
    "\n",
    "(ここから以降に自作問題を書いてください)"
   ]
  },
  {
   "cell_type": "code",
   "execution_count": null,
   "metadata": {
    "id": "NAb3ANsjClVv"
   },
   "outputs": [],
   "source": [
    "# ここに自作問題の回答（pythonプログラム）を書いてください"
   ]
  },
  {
   "cell_type": "markdown",
   "metadata": {
    "id": "s9JD_5y-ClZ_"
   },
   "source": [
    "第24問\n",
    "次の問題に答えなさい\n",
    "\n",
    "(ここから以降に自作問題を書いてください)"
   ]
  },
  {
   "cell_type": "code",
   "execution_count": null,
   "metadata": {
    "id": "GVsUPkqyClZ_"
   },
   "outputs": [],
   "source": [
    "# ここに自作問題の回答（pythonプログラム）を書いてください"
   ]
  },
  {
   "cell_type": "markdown",
   "metadata": {
    "id": "Lc5Rf1spCleO"
   },
   "source": [
    "第25問\n",
    "次の問題に答えなさい\n",
    "\n",
    "(ここから以降に自作問題を書いてください)"
   ]
  },
  {
   "cell_type": "code",
   "execution_count": null,
   "metadata": {
    "id": "3Y1i3paICleP"
   },
   "outputs": [],
   "source": [
    "# ここに自作問題の回答（pythonプログラム）を書いてください"
   ]
  },
  {
   "cell_type": "markdown",
   "metadata": {
    "id": "PNyk0KXyCliH"
   },
   "source": [
    "第26問\n",
    "次の問題に答えなさい\n",
    "\n",
    "(ここから以降に自作問題を書いてください)"
   ]
  },
  {
   "cell_type": "code",
   "execution_count": null,
   "metadata": {
    "id": "WioMT9olCliH"
   },
   "outputs": [],
   "source": [
    "# ここに自作問題の回答（pythonプログラム）を書いてください"
   ]
  },
  {
   "cell_type": "markdown",
   "metadata": {
    "id": "xWs81ntVClmY"
   },
   "source": [
    "第27問\n",
    "次の問題に答えなさい\n",
    "\n",
    "(ここから以降に自作問題を書いてください)"
   ]
  },
  {
   "cell_type": "code",
   "execution_count": null,
   "metadata": {
    "id": "RgXuN_K4ClmY"
   },
   "outputs": [],
   "source": [
    "# ここに自作問題の回答（pythonプログラム）を書いてください"
   ]
  },
  {
   "cell_type": "markdown",
   "metadata": {
    "id": "SLSpYs0aClqP"
   },
   "source": [
    "第28問\n",
    "次の問題に答えなさい\n",
    "\n",
    "(ここから以降に自作問題を書いてください)"
   ]
  },
  {
   "cell_type": "code",
   "execution_count": null,
   "metadata": {
    "id": "QxPLN78VClqP"
   },
   "outputs": [],
   "source": [
    "# ここに自作問題の回答（pythonプログラム）を書いてください"
   ]
  },
  {
   "cell_type": "markdown",
   "metadata": {
    "id": "Vce9O4iZCluQ"
   },
   "source": [
    "第29問\n",
    "次の問題に答えなさい\n",
    "\n",
    "(ここから以降に自作問題を書いてください)"
   ]
  },
  {
   "cell_type": "code",
   "execution_count": null,
   "metadata": {
    "id": "OZswT3aBCluQ"
   },
   "outputs": [],
   "source": [
    "# ここに自作問題の回答（pythonプログラム）を書いてください"
   ]
  },
  {
   "cell_type": "markdown",
   "metadata": {
    "id": "ZftNB5RAClxu"
   },
   "source": [
    "第30問\n",
    "次の問題に答えなさい\n",
    "\n",
    "(ここから以降に自作問題を書いてください)"
   ]
  },
  {
   "cell_type": "code",
   "execution_count": null,
   "metadata": {
    "id": "RyBB2-7ZClxu"
   },
   "outputs": [],
   "source": [
    "# ここに自作問題の回答（pythonプログラム）を書いてください"
   ]
  },
  {
   "cell_type": "markdown",
   "metadata": {
    "id": "vF0Qhpj1Cl1f"
   },
   "source": [
    "第31問\n",
    "次の問題に答えなさい\n",
    "\n",
    "(ここから以降に自作問題を書いてください)"
   ]
  },
  {
   "cell_type": "code",
   "execution_count": null,
   "metadata": {
    "id": "Qr55j_0SCl1f"
   },
   "outputs": [],
   "source": [
    "# ここに自作問題の回答（pythonプログラム）を書いてください"
   ]
  },
  {
   "cell_type": "markdown",
   "metadata": {
    "id": "KNdTbducCl5J"
   },
   "source": [
    "第32問\n",
    "次の問題に答えなさい\n",
    "\n",
    "(ここから以降に自作問題を書いてください)"
   ]
  },
  {
   "cell_type": "code",
   "execution_count": null,
   "metadata": {
    "id": "r2LU7OkSCl5J"
   },
   "outputs": [],
   "source": [
    "# ここに自作問題の回答（pythonプログラム）を書いてください"
   ]
  },
  {
   "cell_type": "markdown",
   "metadata": {
    "id": "tm5QeRQqCl9J"
   },
   "source": [
    "第33問\n",
    "次の問題に答えなさい\n",
    "\n",
    "(ここから以降に自作問題を書いてください)"
   ]
  },
  {
   "cell_type": "code",
   "execution_count": null,
   "metadata": {
    "id": "yuzO-GiLCl9J"
   },
   "outputs": [],
   "source": [
    "# ここに自作問題の回答（pythonプログラム）を書いてください"
   ]
  },
  {
   "cell_type": "markdown",
   "metadata": {
    "id": "LhOPygFVCmAg"
   },
   "source": [
    "第34問\n",
    "次の問題に答えなさい\n",
    "\n",
    "(ここから以降に自作問題を書いてください)"
   ]
  },
  {
   "cell_type": "code",
   "execution_count": null,
   "metadata": {
    "id": "SMWVrsqbCmAh"
   },
   "outputs": [],
   "source": [
    "# ここに自作問題の回答（pythonプログラム）を書いてください"
   ]
  },
  {
   "cell_type": "markdown",
   "metadata": {
    "id": "F_r-66J3CmEY"
   },
   "source": [
    "第35問\n",
    "次の問題に答えなさい\n",
    "\n",
    "(ここから以降に自作問題を書いてください)"
   ]
  },
  {
   "cell_type": "code",
   "execution_count": null,
   "metadata": {
    "id": "FsjXRLasCmEZ"
   },
   "outputs": [],
   "source": [
    "# ここに自作問題の回答（pythonプログラム）を書いてください"
   ]
  },
  {
   "cell_type": "markdown",
   "metadata": {
    "id": "KAHzjc6bCmH3"
   },
   "source": [
    "第36問\n",
    "次の問題に答えなさい\n",
    "\n",
    "(ここから以降に自作問題を書いてください)"
   ]
  },
  {
   "cell_type": "code",
   "execution_count": null,
   "metadata": {
    "id": "stK2Ls0vCmH4"
   },
   "outputs": [],
   "source": [
    "# ここに自作問題の回答（pythonプログラム）を書いてください"
   ]
  },
  {
   "cell_type": "markdown",
   "metadata": {
    "id": "LX93NyY5CmLW"
   },
   "source": [
    "第37問\n",
    "次の問題に答えなさい\n",
    "\n",
    "(ここから以降に自作問題を書いてください)"
   ]
  },
  {
   "cell_type": "code",
   "execution_count": null,
   "metadata": {
    "id": "bxpZGluZCmLX"
   },
   "outputs": [],
   "source": [
    "# ここに自作問題の回答（pythonプログラム）を書いてください"
   ]
  },
  {
   "cell_type": "markdown",
   "metadata": {
    "id": "QZYQScAXCmOm"
   },
   "source": [
    "第38問\n",
    "次の問題に答えなさい\n",
    "\n",
    "(ここから以降に自作問題を書いてください)"
   ]
  },
  {
   "cell_type": "code",
   "execution_count": null,
   "metadata": {
    "id": "YpZbaaMxCmOn"
   },
   "outputs": [],
   "source": [
    "# ここに自作問題の回答（pythonプログラム）を書いてください"
   ]
  },
  {
   "cell_type": "markdown",
   "metadata": {
    "id": "KGbHdS4DCmSI"
   },
   "source": [
    "第39問\n",
    "次の問題に答えなさい\n",
    "\n",
    "(ここから以降に自作問題を書いてください)"
   ]
  },
  {
   "cell_type": "code",
   "execution_count": null,
   "metadata": {
    "id": "9aDa4fWqCmSI"
   },
   "outputs": [],
   "source": [
    "# ここに自作問題の回答（pythonプログラム）を書いてください"
   ]
  },
  {
   "cell_type": "markdown",
   "metadata": {
    "id": "RI97GLXlCmVm"
   },
   "source": [
    "第40問\n",
    "次の問題に答えなさい\n",
    "\n",
    "(ここから以降に自作問題を書いてください)"
   ]
  },
  {
   "cell_type": "code",
   "execution_count": null,
   "metadata": {
    "id": "VDnwESVXCmVm"
   },
   "outputs": [],
   "source": [
    "# ここに自作問題の回答（pythonプログラム）を書いてください"
   ]
  },
  {
   "cell_type": "markdown",
   "metadata": {
    "id": "nbz9F0bfCmZX"
   },
   "source": [
    "第41問\n",
    "次の問題に答えなさい\n",
    "\n",
    "(ここから以降に自作問題を書いてください)"
   ]
  },
  {
   "cell_type": "code",
   "execution_count": null,
   "metadata": {
    "id": "8e64ZEHkCmZX"
   },
   "outputs": [],
   "source": [
    "# ここに自作問題の回答（pythonプログラム）を書いてください"
   ]
  },
  {
   "cell_type": "markdown",
   "metadata": {
    "id": "QBsk0XxUCmcv"
   },
   "source": [
    "第42問\n",
    "次の問題に答えなさい\n",
    "\n",
    "(ここから以降に自作問題を書いてください)"
   ]
  },
  {
   "cell_type": "code",
   "execution_count": null,
   "metadata": {
    "id": "iWLwv_TNCmcv"
   },
   "outputs": [],
   "source": [
    "# ここに自作問題の回答（pythonプログラム）を書いてください"
   ]
  },
  {
   "cell_type": "markdown",
   "metadata": {
    "id": "1iU3hCm6Cmf-"
   },
   "source": [
    "第43問\n",
    "次の問題に答えなさい\n",
    "\n",
    "(ここから以降に自作問題を書いてください)"
   ]
  },
  {
   "cell_type": "code",
   "execution_count": null,
   "metadata": {
    "id": "SbkPYm-PCmf_"
   },
   "outputs": [],
   "source": [
    "# ここに自作問題の回答（pythonプログラム）を書いてください"
   ]
  },
  {
   "cell_type": "markdown",
   "metadata": {
    "id": "A9EXnwQMCnFv"
   },
   "source": [
    "第44問\n",
    "次の問題に答えなさい\n",
    "\n",
    "(ここから以降に自作問題を書いてください)"
   ]
  },
  {
   "cell_type": "code",
   "execution_count": null,
   "metadata": {
    "id": "9UkL4uqtCnFw"
   },
   "outputs": [],
   "source": [
    "# ここに自作問題の回答（pythonプログラム）を書いてください"
   ]
  },
  {
   "cell_type": "markdown",
   "metadata": {
    "id": "KZkEBnGYCnMv"
   },
   "source": [
    "第45問\n",
    "次の問題に答えなさい\n",
    "\n",
    "(ここから以降に自作問題を書いてください)"
   ]
  },
  {
   "cell_type": "code",
   "execution_count": null,
   "metadata": {
    "id": "wv_sPBaUCnMv"
   },
   "outputs": [],
   "source": [
    "# ここに自作問題の回答（pythonプログラム）を書いてください"
   ]
  },
  {
   "cell_type": "markdown",
   "metadata": {
    "id": "r9ROzv5wCnQZ"
   },
   "source": [
    "第46問\n",
    "次の問題に答えなさい\n",
    "\n",
    "(ここから以降に自作問題を書いてください)"
   ]
  },
  {
   "cell_type": "code",
   "execution_count": null,
   "metadata": {
    "id": "cSUx9Z4dCnQZ"
   },
   "outputs": [],
   "source": [
    "# ここに自作問題の回答（pythonプログラム）を書いてください"
   ]
  },
  {
   "cell_type": "markdown",
   "metadata": {
    "id": "wufgFoJOCnTw"
   },
   "source": [
    "第47問\n",
    "次の問題に答えなさい\n",
    "\n",
    "(ここから以降に自作問題を書いてください)"
   ]
  },
  {
   "cell_type": "code",
   "execution_count": null,
   "metadata": {
    "id": "Qsz4q4IQCnTw"
   },
   "outputs": [],
   "source": [
    "# ここに自作問題の回答（pythonプログラム）を書いてください"
   ]
  },
  {
   "cell_type": "markdown",
   "metadata": {
    "id": "o-QfM5RsCnXH"
   },
   "source": [
    "第48問\n",
    "次の問題に答えなさい\n",
    "\n",
    "(ここから以降に自作問題を書いてください)"
   ]
  },
  {
   "cell_type": "code",
   "execution_count": null,
   "metadata": {
    "id": "VbrzO26lCnXH"
   },
   "outputs": [],
   "source": [
    "# ここに自作問題の回答（pythonプログラム）を書いてください"
   ]
  },
  {
   "cell_type": "markdown",
   "metadata": {
    "id": "8O-SgOx2CnaX"
   },
   "source": [
    "第49問\n",
    "次の問題に答えなさい\n",
    "\n",
    "(ここから以降に自作問題を書いてください)"
   ]
  },
  {
   "cell_type": "code",
   "execution_count": null,
   "metadata": {
    "id": "gg7y0UIFCnaY"
   },
   "outputs": [],
   "source": [
    "# ここに自作問題の回答（pythonプログラム）を書いてください"
   ]
  },
  {
   "cell_type": "markdown",
   "metadata": {
    "id": "SGbw9C59xAv9"
   },
   "source": [
    "# 第50問～第99問"
   ]
  },
  {
   "cell_type": "markdown",
   "metadata": {
    "id": "BGKAdavjCndn"
   },
   "source": [
    "第50問\n",
    "次の問題に答えなさい\n",
    "\n",
    "(ここから以降に自作問題を書いてください)"
   ]
  },
  {
   "cell_type": "code",
   "execution_count": null,
   "metadata": {
    "id": "kQTzgBq1Cndn"
   },
   "outputs": [],
   "source": [
    "# ここに自作問題の回答（pythonプログラム）を書いてください"
   ]
  },
  {
   "cell_type": "markdown",
   "metadata": {
    "id": "uberHiumCnif"
   },
   "source": [
    "第51問\n",
    "次の問題に答えなさい\n",
    "\n",
    "(ここから以降に自作問題を書いてください)"
   ]
  },
  {
   "cell_type": "code",
   "execution_count": null,
   "metadata": {
    "id": "f4nkLyM0Cnif"
   },
   "outputs": [],
   "source": [
    "# ここに自作問題の回答（pythonプログラム）を書いてください"
   ]
  },
  {
   "cell_type": "markdown",
   "metadata": {
    "id": "DSz81KJqCnmH"
   },
   "source": [
    "第52問\n",
    "次の問題に答えなさい\n",
    "\n",
    "(ここから以降に自作問題を書いてください)"
   ]
  },
  {
   "cell_type": "code",
   "execution_count": null,
   "metadata": {
    "id": "J2HSytTyCnmH"
   },
   "outputs": [],
   "source": [
    "# ここに自作問題の回答（pythonプログラム）を書いてください"
   ]
  },
  {
   "cell_type": "markdown",
   "metadata": {
    "id": "FmTuCd4PCnpP"
   },
   "source": [
    "第53問\n",
    "次の問題に答えなさい\n",
    "\n",
    "(ここから以降に自作問題を書いてください)"
   ]
  },
  {
   "cell_type": "code",
   "execution_count": null,
   "metadata": {
    "id": "jVTOevemCnpP"
   },
   "outputs": [],
   "source": [
    "# ここに自作問題の回答（pythonプログラム）を書いてください"
   ]
  },
  {
   "cell_type": "markdown",
   "metadata": {
    "id": "QLxtba1LCnsg"
   },
   "source": [
    "第54問\n",
    "次の問題に答えなさい\n",
    "\n",
    "(ここから以降に自作問題を書いてください)"
   ]
  },
  {
   "cell_type": "code",
   "execution_count": null,
   "metadata": {
    "id": "rjnmamrQCnsg"
   },
   "outputs": [],
   "source": [
    "# ここに自作問題の回答（pythonプログラム）を書いてください"
   ]
  },
  {
   "cell_type": "markdown",
   "metadata": {
    "id": "TSg8AHy0Cnvw"
   },
   "source": [
    "第55問\n",
    "次の問題に答えなさい\n",
    "\n",
    "(ここから以降に自作問題を書いてください)"
   ]
  },
  {
   "cell_type": "code",
   "execution_count": null,
   "metadata": {
    "id": "wiBm_iQnCnvw"
   },
   "outputs": [],
   "source": [
    "# ここに自作問題の回答（pythonプログラム）を書いてください"
   ]
  },
  {
   "cell_type": "markdown",
   "metadata": {
    "id": "m0SL3J7TCnzR"
   },
   "source": [
    "第56問\n",
    "次の問題に答えなさい\n",
    "\n",
    "(ここから以降に自作問題を書いてください)"
   ]
  },
  {
   "cell_type": "code",
   "execution_count": null,
   "metadata": {
    "id": "5C2GAXfOCnzR"
   },
   "outputs": [],
   "source": [
    "# ここに自作問題の回答（pythonプログラム）を書いてください"
   ]
  },
  {
   "cell_type": "markdown",
   "metadata": {
    "id": "JBq16xsPCn2w"
   },
   "source": [
    "第57問\n",
    "次の問題に答えなさい\n",
    "\n",
    "(ここから以降に自作問題を書いてください)"
   ]
  },
  {
   "cell_type": "code",
   "execution_count": null,
   "metadata": {
    "id": "xx5JKqkzCn2w"
   },
   "outputs": [],
   "source": [
    "# ここに自作問題の回答（pythonプログラム）を書いてください"
   ]
  },
  {
   "cell_type": "markdown",
   "metadata": {
    "id": "WwVrceeECn6E"
   },
   "source": [
    "第58問\n",
    "次の問題に答えなさい\n",
    "\n",
    "(ここから以降に自作問題を書いてください)"
   ]
  },
  {
   "cell_type": "code",
   "execution_count": null,
   "metadata": {
    "id": "689Nr15UCn6E"
   },
   "outputs": [],
   "source": [
    "# ここに自作問題の回答（pythonプログラム）を書いてください"
   ]
  },
  {
   "cell_type": "markdown",
   "metadata": {
    "id": "W4Ktn-7rCn9A"
   },
   "source": [
    "第59問\n",
    "次の問題に答えなさい\n",
    "\n",
    "(ここから以降に自作問題を書いてください)"
   ]
  },
  {
   "cell_type": "code",
   "execution_count": null,
   "metadata": {
    "id": "MFxa3-peCn9B"
   },
   "outputs": [],
   "source": [
    "# ここに自作問題の回答（pythonプログラム）を書いてください"
   ]
  },
  {
   "cell_type": "markdown",
   "metadata": {
    "id": "zwBIl1ZfCoAY"
   },
   "source": [
    "第60問\n",
    "次の問題に答えなさい\n",
    "\n",
    "(ここから以降に自作問題を書いてください)"
   ]
  },
  {
   "cell_type": "code",
   "execution_count": null,
   "metadata": {
    "id": "l2YLGPttCoAY"
   },
   "outputs": [],
   "source": [
    "# ここに自作問題の回答（pythonプログラム）を書いてください"
   ]
  },
  {
   "cell_type": "markdown",
   "metadata": {
    "id": "4Vr2AlNnCoIB"
   },
   "source": [
    "第61問\n",
    "次の問題に答えなさい\n",
    "\n",
    "(ここから以降に自作問題を書いてください)"
   ]
  },
  {
   "cell_type": "code",
   "execution_count": null,
   "metadata": {
    "id": "lhGvw7_UCoIB"
   },
   "outputs": [],
   "source": [
    "# ここに自作問題の回答（pythonプログラム）を書いてください"
   ]
  },
  {
   "cell_type": "markdown",
   "metadata": {
    "id": "S1TjSlQ0CoK3"
   },
   "source": [
    "第62問\n",
    "次の問題に答えなさい\n",
    "\n",
    "(ここから以降に自作問題を書いてください)"
   ]
  },
  {
   "cell_type": "code",
   "execution_count": null,
   "metadata": {
    "id": "MP-LqhXmCoK4"
   },
   "outputs": [],
   "source": [
    "# ここに自作問題の回答（pythonプログラム）を書いてください"
   ]
  },
  {
   "cell_type": "markdown",
   "metadata": {
    "id": "a9FMwFwTCoNg"
   },
   "source": [
    "第63問\n",
    "次の問題に答えなさい\n",
    "\n",
    "(ここから以降に自作問題を書いてください)"
   ]
  },
  {
   "cell_type": "code",
   "execution_count": null,
   "metadata": {
    "id": "1Ih80lAHCoNg"
   },
   "outputs": [],
   "source": [
    "# ここに自作問題の回答（pythonプログラム）を書いてください"
   ]
  },
  {
   "cell_type": "markdown",
   "metadata": {
    "id": "KF2T7F8iCoQX"
   },
   "source": [
    "第64問\n",
    "次の問題に答えなさい\n",
    "\n",
    "(ここから以降に自作問題を書いてください)"
   ]
  },
  {
   "cell_type": "code",
   "execution_count": null,
   "metadata": {
    "id": "vV6Qu7p6CoQY"
   },
   "outputs": [],
   "source": [
    "# ここに自作問題の回答（pythonプログラム）を書いてください"
   ]
  },
  {
   "cell_type": "markdown",
   "metadata": {
    "id": "zJkc-6KiCoTX"
   },
   "source": [
    "第65問\n",
    "次の問題に答えなさい\n",
    "\n",
    "(ここから以降に自作問題を書いてください)"
   ]
  },
  {
   "cell_type": "code",
   "execution_count": null,
   "metadata": {
    "id": "C61G0T6dCoTX"
   },
   "outputs": [],
   "source": [
    "# ここに自作問題の回答（pythonプログラム）を書いてください"
   ]
  },
  {
   "cell_type": "markdown",
   "metadata": {
    "id": "QHkN8npGCoWW"
   },
   "source": [
    "第66問\n",
    "次の問題に答えなさい\n",
    "\n",
    "(ここから以降に自作問題を書いてください)"
   ]
  },
  {
   "cell_type": "code",
   "execution_count": null,
   "metadata": {
    "id": "wxIIzmH1CoWW"
   },
   "outputs": [],
   "source": [
    "# ここに自作問題の回答（pythonプログラム）を書いてください"
   ]
  },
  {
   "cell_type": "markdown",
   "metadata": {
    "id": "B9nKoZfiCoZn"
   },
   "source": [
    "第67問\n",
    "次の問題に答えなさい\n",
    "\n",
    "(ここから以降に自作問題を書いてください)"
   ]
  },
  {
   "cell_type": "code",
   "execution_count": null,
   "metadata": {
    "id": "V3LaTdGsCoZn"
   },
   "outputs": [],
   "source": [
    "# ここに自作問題の回答（pythonプログラム）を書いてください"
   ]
  },
  {
   "cell_type": "markdown",
   "metadata": {
    "id": "r64CjW7dCoc3"
   },
   "source": [
    "第68問\n",
    "次の問題に答えなさい\n",
    "\n",
    "(ここから以降に自作問題を書いてください)"
   ]
  },
  {
   "cell_type": "code",
   "execution_count": null,
   "metadata": {
    "id": "g1M1cMBFCoc3"
   },
   "outputs": [],
   "source": [
    "# ここに自作問題の回答（pythonプログラム）を書いてください"
   ]
  },
  {
   "cell_type": "markdown",
   "metadata": {
    "id": "788opQI3CogD"
   },
   "source": [
    "第69問\n",
    "次の問題に答えなさい\n",
    "\n",
    "(ここから以降に自作問題を書いてください)"
   ]
  },
  {
   "cell_type": "code",
   "execution_count": null,
   "metadata": {
    "id": "Xqn3963ZCogE"
   },
   "outputs": [],
   "source": [
    "# ここに自作問題の回答（pythonプログラム）を書いてください"
   ]
  },
  {
   "cell_type": "markdown",
   "metadata": {
    "id": "J3hsd9MQCojX"
   },
   "source": [
    "第70問\n",
    "次の問題に答えなさい\n",
    "\n",
    "(ここから以降に自作問題を書いてください)"
   ]
  },
  {
   "cell_type": "code",
   "execution_count": null,
   "metadata": {
    "id": "WoWe-qsSCojX"
   },
   "outputs": [],
   "source": [
    "# ここに自作問題の回答（pythonプログラム）を書いてください"
   ]
  },
  {
   "cell_type": "markdown",
   "metadata": {
    "id": "i-DV3dJbCoog"
   },
   "source": [
    "第71問\n",
    "次の問題に答えなさい\n",
    "\n",
    "(ここから以降に自作問題を書いてください)"
   ]
  },
  {
   "cell_type": "code",
   "execution_count": null,
   "metadata": {
    "id": "a4pqBQjaCoog"
   },
   "outputs": [],
   "source": [
    "# ここに自作問題の回答（pythonプログラム）を書いてください"
   ]
  },
  {
   "cell_type": "markdown",
   "metadata": {
    "id": "FvmbHI-FCoq_"
   },
   "source": [
    "第72問\n",
    "次の問題に答えなさい\n",
    "\n",
    "(ここから以降に自作問題を書いてください)"
   ]
  },
  {
   "cell_type": "code",
   "execution_count": null,
   "metadata": {
    "id": "V3EjZ9xmCoq_"
   },
   "outputs": [],
   "source": [
    "# ここに自作問題の回答（pythonプログラム）を書いてください"
   ]
  },
  {
   "cell_type": "markdown",
   "metadata": {
    "id": "psSQlOtOCotv"
   },
   "source": [
    "第73問\n",
    "次の問題に答えなさい\n",
    "\n",
    "(ここから以降に自作問題を書いてください)"
   ]
  },
  {
   "cell_type": "code",
   "execution_count": null,
   "metadata": {
    "id": "6X7cNmF6Cotw"
   },
   "outputs": [],
   "source": [
    "# ここに自作問題の回答（pythonプログラム）を書いてください"
   ]
  },
  {
   "cell_type": "markdown",
   "metadata": {
    "id": "_6dKdmZ7CowP"
   },
   "source": [
    "第74問\n",
    "次の問題に答えなさい\n",
    "\n",
    "(ここから以降に自作問題を書いてください)"
   ]
  },
  {
   "cell_type": "code",
   "execution_count": null,
   "metadata": {
    "id": "41LCFZc0CowP"
   },
   "outputs": [],
   "source": [
    "# ここに自作問題の回答（pythonプログラム）を書いてください"
   ]
  },
  {
   "cell_type": "markdown",
   "metadata": {
    "id": "FU9-Ljp1CozG"
   },
   "source": [
    "第75問\n",
    "次の問題に答えなさい\n",
    "\n",
    "(ここから以降に自作問題を書いてください)"
   ]
  },
  {
   "cell_type": "code",
   "execution_count": null,
   "metadata": {
    "id": "AQ6b0b8jCozH"
   },
   "outputs": [],
   "source": [
    "# ここに自作問題の回答（pythonプログラム）を書いてください"
   ]
  },
  {
   "cell_type": "markdown",
   "metadata": {
    "id": "JZP4aTvwCo1-"
   },
   "source": [
    "第76問\n",
    "次の問題に答えなさい\n",
    "\n",
    "(ここから以降に自作問題を書いてください)"
   ]
  },
  {
   "cell_type": "code",
   "execution_count": null,
   "metadata": {
    "id": "RPtdoJIHCo1_"
   },
   "outputs": [],
   "source": [
    "# ここに自作問題の回答（pythonプログラム）を書いてください"
   ]
  },
  {
   "cell_type": "markdown",
   "metadata": {
    "id": "2L88TkJVCo4v"
   },
   "source": [
    "第77問\n",
    "次の問題に答えなさい\n",
    "\n",
    "(ここから以降に自作問題を書いてください)"
   ]
  },
  {
   "cell_type": "code",
   "execution_count": null,
   "metadata": {
    "id": "ZgYF6L5CCo4v"
   },
   "outputs": [],
   "source": [
    "# ここに自作問題の回答（pythonプログラム）を書いてください"
   ]
  },
  {
   "cell_type": "markdown",
   "metadata": {
    "id": "YjoxA-4tCo7f"
   },
   "source": [
    "第78問\n",
    "次の問題に答えなさい\n",
    "\n",
    "(ここから以降に自作問題を書いてください)"
   ]
  },
  {
   "cell_type": "code",
   "execution_count": null,
   "metadata": {
    "id": "JadLop7GCo7f"
   },
   "outputs": [],
   "source": [
    "# ここに自作問題の回答（pythonプログラム）を書いてください"
   ]
  },
  {
   "cell_type": "markdown",
   "metadata": {
    "id": "oHq46_RxCo-X"
   },
   "source": [
    "第79問\n",
    "次の問題に答えなさい\n",
    "\n",
    "(ここから以降に自作問題を書いてください)"
   ]
  },
  {
   "cell_type": "code",
   "execution_count": null,
   "metadata": {
    "id": "PaOC3kaUCo-X"
   },
   "outputs": [],
   "source": [
    "# ここに自作問題の回答（pythonプログラム）を書いてください"
   ]
  },
  {
   "cell_type": "markdown",
   "metadata": {
    "id": "pRulxaS9CpBN"
   },
   "source": [
    "第80問\n",
    "次の問題に答えなさい\n",
    "\n",
    "(ここから以降に自作問題を書いてください)"
   ]
  },
  {
   "cell_type": "code",
   "execution_count": null,
   "metadata": {
    "id": "yM-qN71pCpBN"
   },
   "outputs": [],
   "source": [
    "# ここに自作問題の回答（pythonプログラム）を書いてください"
   ]
  },
  {
   "cell_type": "markdown",
   "metadata": {
    "id": "55A_p-9vCpFw"
   },
   "source": [
    "第81問\n",
    "次の問題に答えなさい\n",
    "\n",
    "(ここから以降に自作問題を書いてください)"
   ]
  },
  {
   "cell_type": "code",
   "execution_count": null,
   "metadata": {
    "id": "57Zs7MgoCpFw"
   },
   "outputs": [],
   "source": [
    "# ここに自作問題の回答（pythonプログラム）を書いてください"
   ]
  },
  {
   "cell_type": "markdown",
   "metadata": {
    "id": "0LgkDyrYCpIf"
   },
   "source": [
    "第82問\n",
    "次の問題に答えなさい\n",
    "\n",
    "(ここから以降に自作問題を書いてください)"
   ]
  },
  {
   "cell_type": "code",
   "execution_count": null,
   "metadata": {
    "id": "-5II-EUoCpIg"
   },
   "outputs": [],
   "source": [
    "# ここに自作問題の回答（pythonプログラム）を書いてください"
   ]
  },
  {
   "cell_type": "markdown",
   "metadata": {
    "id": "eLE5sRWiCpLP"
   },
   "source": [
    "第83問\n",
    "次の問題に答えなさい\n",
    "\n",
    "(ここから以降に自作問題を書いてください)"
   ]
  },
  {
   "cell_type": "code",
   "execution_count": null,
   "metadata": {
    "id": "s6GpS04GCpLP"
   },
   "outputs": [],
   "source": [
    "# ここに自作問題の回答（pythonプログラム）を書いてください"
   ]
  },
  {
   "cell_type": "markdown",
   "metadata": {
    "id": "oYQ_smnaCpOB"
   },
   "source": [
    "第84問\n",
    "次の問題に答えなさい\n",
    "\n",
    "(ここから以降に自作問題を書いてください)"
   ]
  },
  {
   "cell_type": "code",
   "execution_count": null,
   "metadata": {
    "id": "bP4U1K12CpOB"
   },
   "outputs": [],
   "source": [
    "# ここに自作問題の回答（pythonプログラム）を書いてください"
   ]
  },
  {
   "cell_type": "markdown",
   "metadata": {
    "id": "zFMewCBnCpRB"
   },
   "source": [
    "第85問\n",
    "次の問題に答えなさい\n",
    "\n",
    "(ここから以降に自作問題を書いてください)"
   ]
  },
  {
   "cell_type": "code",
   "execution_count": null,
   "metadata": {
    "id": "MLNtILAUCpRB"
   },
   "outputs": [],
   "source": [
    "# ここに自作問題の回答（pythonプログラム）を書いてください"
   ]
  },
  {
   "cell_type": "markdown",
   "metadata": {
    "id": "arrPQRq1CpT4"
   },
   "source": [
    "第86問\n",
    "次の問題に答えなさい\n",
    "\n",
    "(ここから以降に自作問題を書いてください)"
   ]
  },
  {
   "cell_type": "code",
   "execution_count": null,
   "metadata": {
    "id": "L8XTr5qXCpT4"
   },
   "outputs": [],
   "source": [
    "# ここに自作問題の回答（pythonプログラム）を書いてください"
   ]
  },
  {
   "cell_type": "markdown",
   "metadata": {
    "id": "NPNGJ60kCpWn"
   },
   "source": [
    "第87問\n",
    "次の問題に答えなさい\n",
    "\n",
    "(ここから以降に自作問題を書いてください)"
   ]
  },
  {
   "cell_type": "code",
   "execution_count": null,
   "metadata": {
    "id": "J5C0oxWyCpWn"
   },
   "outputs": [],
   "source": [
    "# ここに自作問題の回答（pythonプログラム）を書いてください"
   ]
  },
  {
   "cell_type": "markdown",
   "metadata": {
    "id": "YVW539UCCpZe"
   },
   "source": [
    "第88問\n",
    "次の問題に答えなさい\n",
    "\n",
    "(ここから以降に自作問題を書いてください)"
   ]
  },
  {
   "cell_type": "code",
   "execution_count": null,
   "metadata": {
    "id": "Flb3ya0bCpZf"
   },
   "outputs": [],
   "source": [
    "# ここに自作問題の回答（pythonプログラム）を書いてください"
   ]
  },
  {
   "cell_type": "markdown",
   "metadata": {
    "id": "Rti1QGtKCpcv"
   },
   "source": [
    "第89問\n",
    "次の問題に答えなさい\n",
    "\n",
    "(ここから以降に自作問題を書いてください)"
   ]
  },
  {
   "cell_type": "code",
   "execution_count": null,
   "metadata": {
    "id": "b1DXAV-NCpcv"
   },
   "outputs": [],
   "source": [
    "# ここに自作問題の回答（pythonプログラム）を書いてください"
   ]
  },
  {
   "cell_type": "markdown",
   "metadata": {
    "id": "chv9je-9Cpfm"
   },
   "source": [
    "第90問\n",
    "次の問題に答えなさい\n",
    "\n",
    "(ここから以降に自作問題を書いてください)"
   ]
  },
  {
   "cell_type": "code",
   "execution_count": null,
   "metadata": {
    "id": "1xLoA-bECpfn"
   },
   "outputs": [],
   "source": [
    "# ここに自作問題の回答（pythonプログラム）を書いてください"
   ]
  },
  {
   "cell_type": "markdown",
   "metadata": {
    "id": "SFv1X6_-Cpsv"
   },
   "source": [
    "第91問\n",
    "次の問題に答えなさい\n",
    "\n",
    "(ここから以降に自作問題を書いてください)"
   ]
  },
  {
   "cell_type": "code",
   "execution_count": null,
   "metadata": {
    "id": "oRMioxL0Cpsv"
   },
   "outputs": [],
   "source": [
    "# ここに自作問題の回答（pythonプログラム）を書いてください"
   ]
  },
  {
   "cell_type": "markdown",
   "metadata": {
    "id": "QV91yV_DCpvn"
   },
   "source": [
    "第92問\n",
    "次の問題に答えなさい\n",
    "\n",
    "(ここから以降に自作問題を書いてください)"
   ]
  },
  {
   "cell_type": "code",
   "execution_count": null,
   "metadata": {
    "id": "FkCIRgvYCpvn"
   },
   "outputs": [],
   "source": [
    "# ここに自作問題の回答（pythonプログラム）を書いてください"
   ]
  },
  {
   "cell_type": "markdown",
   "metadata": {
    "id": "4I1nOMiDCpyH"
   },
   "source": [
    "第93問\n",
    "次の問題に答えなさい\n",
    "\n",
    "(ここから以降に自作問題を書いてください)"
   ]
  },
  {
   "cell_type": "code",
   "execution_count": null,
   "metadata": {
    "id": "BPR-1NdPCpyH"
   },
   "outputs": [],
   "source": [
    "# ここに自作問題の回答（pythonプログラム）を書いてください"
   ]
  },
  {
   "cell_type": "markdown",
   "metadata": {
    "id": "RxtWdLZZCp1P"
   },
   "source": [
    "第94問\n",
    "次の問題に答えなさい\n",
    "\n",
    "(ここから以降に自作問題を書いてください)"
   ]
  },
  {
   "cell_type": "code",
   "execution_count": null,
   "metadata": {
    "id": "2nZfZtcOCp1P"
   },
   "outputs": [],
   "source": [
    "# ここに自作問題の回答（pythonプログラム）を書いてください"
   ]
  },
  {
   "cell_type": "markdown",
   "metadata": {
    "id": "lANIB_k_Cp4X"
   },
   "source": [
    "第95問\n",
    "次の問題に答えなさい\n",
    "\n",
    "(ここから以降に自作問題を書いてください)"
   ]
  },
  {
   "cell_type": "code",
   "execution_count": null,
   "metadata": {
    "id": "EYOywW-tCp4X"
   },
   "outputs": [],
   "source": [
    "# ここに自作問題の回答（pythonプログラム）を書いてください"
   ]
  },
  {
   "cell_type": "markdown",
   "metadata": {
    "id": "CnnHzLN8Cp7g"
   },
   "source": [
    "第96問\n",
    "次の問題に答えなさい\n",
    "\n",
    "(ここから以降に自作問題を書いてください)"
   ]
  },
  {
   "cell_type": "code",
   "execution_count": null,
   "metadata": {
    "id": "MNkQ0-F6Cp7h"
   },
   "outputs": [],
   "source": [
    "# ここに自作問題の回答（pythonプログラム）を書いてください"
   ]
  },
  {
   "cell_type": "markdown",
   "metadata": {
    "id": "6KPJxOFZCp-f"
   },
   "source": [
    "第97問\n",
    "次の問題に答えなさい\n",
    "\n",
    "(ここから以降に自作問題を書いてください)"
   ]
  },
  {
   "cell_type": "code",
   "execution_count": null,
   "metadata": {
    "id": "zB8lcp65Cp-f"
   },
   "outputs": [],
   "source": [
    "# ここに自作問題の回答（pythonプログラム）を書いてください"
   ]
  },
  {
   "cell_type": "markdown",
   "metadata": {
    "id": "pK9egZ1ICqBf"
   },
   "source": [
    "第98問\n",
    "次の問題に答えなさい\n",
    "\n",
    "(ここから以降に自作問題を書いてください)"
   ]
  },
  {
   "cell_type": "code",
   "execution_count": null,
   "metadata": {
    "id": "CQjHU3aPCqBf"
   },
   "outputs": [],
   "source": [
    "# ここに自作問題の回答（pythonプログラム）を書いてください"
   ]
  },
  {
   "cell_type": "markdown",
   "metadata": {
    "id": "ielgNP-NCqEq"
   },
   "source": [
    "第99問\n",
    "次の問題に答えなさい\n",
    "\n",
    "(ここから以降に自作問題を書いてください)\n",
    "攻撃側、防衛側から二人づつランダムでBANするプログラム"
   ]
  },
  {
   "cell_type": "code",
   "execution_count": null,
   "metadata": {
    "id": "1GvowKWoCqEr"
   },
   "outputs": [],
   "source": [
    "# ここに自作問題の回答（pythonプログラム）を書いてください\n",
    "Attack = ['SLEDGE','THATCHER','ASH','THERMITE','MONTAGNE','TWITCH','BLITZ','IQ','FUZE','GLAZ','BUCK','BLACKBEARD','CAPITAO','HIBANA','JACKAL','YING','ZOFIA','DOKKAEBI','LION','FINKA','MAVERICK','NOMAD','GRIDLOCK','NOKK','AMARU','KALI','IANA','ACE','ZERO','FLORES','OSA','SENS','GRIM']\n",
    "Defence = ['SMOKE','MUTE','PULSE','CASTLE','DOC','ROOK','BANDIT','JAGER','KAPKAN','TACHANKA','FROST','VALKYRIE','CAVEIRA','ECHO','MIRA','LESION','ELA','VIGIL','ALIBI','MAESTRO','CLASH','KAID','MOZZIE','WARDEN','GOYO','WAMAI','ORYX','MELUSI','ARUNI','THUNDERBIRD','THORN','AZAMI','SOLIS']\n",
    "\n",
    "x1 = random.choice(Attack)\n",
    "Attack.remove(x1)\n",
    "x2 = random.choice(Attack)\n",
    "Attack.remove(x2)\n",
    "y1 = random.choice(Defence)\n",
    "Defence.remove(y1)\n",
    "y2 = random.choice(Defence)\n",
    "Defence.remove(y2)\n",
    "BAN = x1,x2,y1,y2\n",
    "print(BAN)"
   ]
  },
  {
   "cell_type": "markdown",
   "metadata": {
    "id": "cxgcaoojw3-m"
   },
   "source": [
    "# 第100問～第149問"
   ]
  },
  {
   "cell_type": "markdown",
   "metadata": {
    "id": "BM1quri4CqHy"
   },
   "source": [
    "第100問\n",
    "次の問題に答えなさい\n",
    "\n",
    "(ここから以降に自作問題を書いてください)"
   ]
  },
  {
   "cell_type": "code",
   "execution_count": null,
   "metadata": {
    "id": "3wLMDmXzCqHy"
   },
   "outputs": [],
   "source": [
    "# ここに自作問題の回答（pythonプログラム）を書いてください"
   ]
  },
  {
   "cell_type": "markdown",
   "metadata": {
    "id": "iG7IJlWWCqV_"
   },
   "source": [
    "第101問\n",
    "次の問題に答えなさい\n",
    "\n",
    "(ここから以降に自作問題を書いてください)"
   ]
  },
  {
   "cell_type": "code",
   "execution_count": null,
   "metadata": {
    "id": "CYETwOc-CqWA"
   },
   "outputs": [],
   "source": [
    "# ここに自作問題の回答（pythonプログラム）を書いてください"
   ]
  },
  {
   "cell_type": "markdown",
   "metadata": {
    "id": "MYf61hGnCqYu"
   },
   "source": [
    "第102問\n",
    "次の問題に答えなさい\n",
    "\n",
    "(ここから以降に自作問題を書いてください)"
   ]
  },
  {
   "cell_type": "code",
   "execution_count": null,
   "metadata": {
    "id": "_7-SlWlfCqYu"
   },
   "outputs": [],
   "source": [
    "# ここに自作問題の回答（pythonプログラム）を書いてください"
   ]
  },
  {
   "cell_type": "markdown",
   "metadata": {
    "id": "MLSzoLkICqbn"
   },
   "source": [
    "第103問\n",
    "次の問題に答えなさい\n",
    "\n",
    "(ここから以降に自作問題を書いてください)"
   ]
  },
  {
   "cell_type": "code",
   "execution_count": null,
   "metadata": {
    "id": "mD61JnBWCqbo"
   },
   "outputs": [],
   "source": [
    "# ここに自作問題の回答（pythonプログラム）を書いてください"
   ]
  },
  {
   "cell_type": "markdown",
   "metadata": {
    "id": "wc0Y2Ji1Cqeo"
   },
   "source": [
    "第104問\n",
    "次の問題に答えなさい\n",
    "\n",
    "(ここから以降に自作問題を書いてください)"
   ]
  },
  {
   "cell_type": "code",
   "execution_count": null,
   "metadata": {
    "id": "ZzXQwNYeCqeo"
   },
   "outputs": [],
   "source": [
    "# ここに自作問題の回答（pythonプログラム）を書いてください"
   ]
  },
  {
   "cell_type": "markdown",
   "metadata": {
    "id": "xowJedPRCqhw"
   },
   "source": [
    "第105問\n",
    "次の問題に答えなさい\n",
    "\n",
    "(ここから以降に自作問題を書いてください)"
   ]
  },
  {
   "cell_type": "code",
   "execution_count": null,
   "metadata": {
    "id": "4KKFELQXCqhw"
   },
   "outputs": [],
   "source": [
    "# ここに自作問題の回答（pythonプログラム）を書いてください"
   ]
  },
  {
   "cell_type": "markdown",
   "metadata": {
    "id": "NlRx3DYsCqkf"
   },
   "source": [
    "第106問\n",
    "次の問題に答えなさい\n",
    "\n",
    "(ここから以降に自作問題を書いてください)"
   ]
  },
  {
   "cell_type": "code",
   "execution_count": null,
   "metadata": {
    "id": "sna-GqtPCqkf"
   },
   "outputs": [],
   "source": [
    "# ここに自作問題の回答（pythonプログラム）を書いてください"
   ]
  },
  {
   "cell_type": "markdown",
   "metadata": {
    "id": "t8ASOx44CqnP"
   },
   "source": [
    "第107問\n",
    "次の問題に答えなさい\n",
    "\n",
    "(ここから以降に自作問題を書いてください)"
   ]
  },
  {
   "cell_type": "code",
   "execution_count": null,
   "metadata": {
    "id": "yczmY1Z5CqnP"
   },
   "outputs": [],
   "source": [
    "# ここに自作問題の回答（pythonプログラム）を書いてください"
   ]
  },
  {
   "cell_type": "markdown",
   "metadata": {
    "id": "WuxO0BcKCqqP"
   },
   "source": [
    "第108問\n",
    "次の問題に答えなさい\n",
    "\n",
    "(ここから以降に自作問題を書いてください)"
   ]
  },
  {
   "cell_type": "code",
   "execution_count": null,
   "metadata": {
    "id": "bB3xnS0ECqqP"
   },
   "outputs": [],
   "source": [
    "# ここに自作問題の回答（pythonプログラム）を書いてください"
   ]
  },
  {
   "cell_type": "markdown",
   "metadata": {
    "id": "2hjToG7YCqtO"
   },
   "source": [
    "第109問\n",
    "次の問題に答えなさい\n",
    "\n",
    "(ここから以降に自作問題を書いてください)"
   ]
  },
  {
   "cell_type": "code",
   "execution_count": null,
   "metadata": {
    "id": "1PxAtpuDCqtP"
   },
   "outputs": [],
   "source": [
    "# ここに自作問題の回答（pythonプログラム）を書いてください"
   ]
  },
  {
   "cell_type": "markdown",
   "metadata": {
    "id": "NGTSHQYCCqwG"
   },
   "source": [
    "第110問\n",
    "次の問題に答えなさい\n",
    "\n",
    "(ここから以降に自作問題を書いてください)"
   ]
  },
  {
   "cell_type": "code",
   "execution_count": null,
   "metadata": {
    "id": "00sm01SaCqwH"
   },
   "outputs": [],
   "source": [
    "# ここに自作問題の回答（pythonプログラム）を書いてください"
   ]
  },
  {
   "cell_type": "markdown",
   "metadata": {
    "id": "4xfirN9pCq23"
   },
   "source": [
    "第111問\n",
    "次の問題に答えなさい\n",
    "\n",
    "(ここから以降に自作問題を書いてください)"
   ]
  },
  {
   "cell_type": "code",
   "execution_count": null,
   "metadata": {
    "id": "XPIeAWO0Cq23"
   },
   "outputs": [],
   "source": [
    "# ここに自作問題の回答（pythonプログラム）を書いてください"
   ]
  },
  {
   "cell_type": "markdown",
   "metadata": {
    "id": "s7duQo2ACq5v"
   },
   "source": [
    "第112問\n",
    "次の問題に答えなさい\n",
    "\n",
    "(ここから以降に自作問題を書いてください)"
   ]
  },
  {
   "cell_type": "code",
   "execution_count": null,
   "metadata": {
    "id": "YiC3dXIfCq5v"
   },
   "outputs": [],
   "source": [
    "# ここに自作問題の回答（pythonプログラム）を書いてください"
   ]
  },
  {
   "cell_type": "markdown",
   "metadata": {
    "id": "3VqG9mvRCq8y"
   },
   "source": [
    "第113問\n",
    "次の問題に答えなさい\n",
    "\n",
    "(ここから以降に自作問題を書いてください)"
   ]
  },
  {
   "cell_type": "code",
   "execution_count": null,
   "metadata": {
    "id": "SEWPivFGCq8y"
   },
   "outputs": [],
   "source": [
    "# ここに自作問題の回答（pythonプログラム）を書いてください"
   ]
  },
  {
   "cell_type": "markdown",
   "metadata": {
    "id": "mwemJS-oCq_o"
   },
   "source": [
    "第114問\n",
    "次の問題に答えなさい\n",
    "\n",
    "(ここから以降に自作問題を書いてください)"
   ]
  },
  {
   "cell_type": "code",
   "execution_count": null,
   "metadata": {
    "id": "CximyYUvCq_o"
   },
   "outputs": [],
   "source": [
    "# ここに自作問題の回答（pythonプログラム）を書いてください"
   ]
  },
  {
   "cell_type": "markdown",
   "metadata": {
    "id": "qPddFbZmCrCe"
   },
   "source": [
    "第115問\n",
    "次の問題に答えなさい\n",
    "\n",
    "(ここから以降に自作問題を書いてください)"
   ]
  },
  {
   "cell_type": "code",
   "execution_count": null,
   "metadata": {
    "id": "xjMLYInGCrCf"
   },
   "outputs": [],
   "source": [
    "# ここに自作問題の回答（pythonプログラム）を書いてください"
   ]
  },
  {
   "cell_type": "markdown",
   "metadata": {
    "id": "gttPco6UCrF4"
   },
   "source": [
    "第116問\n",
    "次の問題に答えなさい\n",
    "\n",
    "(ここから以降に自作問題を書いてください)"
   ]
  },
  {
   "cell_type": "code",
   "execution_count": null,
   "metadata": {
    "id": "I9jyTdlpCrF5"
   },
   "outputs": [],
   "source": [
    "# ここに自作問題の回答（pythonプログラム）を書いてください"
   ]
  },
  {
   "cell_type": "markdown",
   "metadata": {
    "id": "HhpEiNnyCrIn"
   },
   "source": [
    "第117問\n",
    "次の問題に答えなさい\n",
    "\n",
    "(ここから以降に自作問題を書いてください)"
   ]
  },
  {
   "cell_type": "code",
   "execution_count": null,
   "metadata": {
    "id": "X6s7ZfOfCrIo"
   },
   "outputs": [],
   "source": [
    "# ここに自作問題の回答（pythonプログラム）を書いてください"
   ]
  },
  {
   "cell_type": "markdown",
   "metadata": {
    "id": "y6UzHWQ5CrL4"
   },
   "source": [
    "第118問\n",
    "次の問題に答えなさい\n",
    "\n",
    "(ここから以降に自作問題を書いてください)"
   ]
  },
  {
   "cell_type": "code",
   "execution_count": null,
   "metadata": {
    "id": "Zju_IeWVCrL5"
   },
   "outputs": [],
   "source": [
    "# ここに自作問題の回答（pythonプログラム）を書いてください"
   ]
  },
  {
   "cell_type": "markdown",
   "metadata": {
    "id": "2Dj79z5fCrPA"
   },
   "source": [
    "第119問\n",
    "次の問題に答えなさい\n",
    "\n",
    "(ここから以降に自作問題を書いてください)\n",
    "\n",
    "キーボードに入力したプログラムが３の倍数かどうかを判定しなさい。(ただし一度のみの判定でよいとする)"
   ]
  },
  {
   "cell_type": "code",
   "execution_count": null,
   "metadata": {
    "colab": {
     "base_uri": "https://localhost:8080/"
    },
    "id": "4WelHapoCrPB",
    "outputId": "67e90dc0-9d6b-4b9f-8fc1-c8a570498ca0"
   },
   "outputs": [
    {
     "name": "stdout",
     "output_type": "stream",
     "text": [
      "整数：3\n",
      "3は3の倍数である\n"
     ]
    }
   ],
   "source": [
    "# ここに自作問題の回答（pythonプログラム）を書いてください\n",
    "x=int(input('整数：'))\n",
    "if x%3==0:\n",
    "  print(str(x)+'は3の倍数である')\n",
    "else:\n",
    "  print(str(x)+'は3の倍数でない')"
   ]
  },
  {
   "cell_type": "markdown",
   "metadata": {
    "id": "bO_CY3mzCrR_"
   },
   "source": [
    "第120問\n",
    "次の問題に答えなさい\n",
    "\n",
    "(ここから以降に自作問題を書いてください)"
   ]
  },
  {
   "cell_type": "code",
   "execution_count": null,
   "metadata": {
    "id": "-_NNa3F5CrR_"
   },
   "outputs": [],
   "source": [
    "# ここに自作問題の回答（pythonプログラム）を書いてください"
   ]
  },
  {
   "cell_type": "markdown",
   "metadata": {
    "id": "DqLnhSn1CrYP"
   },
   "source": [
    "第121問\n",
    "次の問題に答えなさい\n",
    "\n",
    "(ここから以降に自作問題を書いてください)"
   ]
  },
  {
   "cell_type": "code",
   "execution_count": null,
   "metadata": {
    "id": "-Wnnxzy5CrYP"
   },
   "outputs": [],
   "source": [
    "# ここに自作問題の回答（pythonプログラム）を書いてください"
   ]
  },
  {
   "cell_type": "markdown",
   "metadata": {
    "id": "KkkKhy3YCrbO"
   },
   "source": [
    "第122問\n",
    "次の問題に答えなさい\n",
    "\n",
    "(ここから以降に自作問題を書いてください)"
   ]
  },
  {
   "cell_type": "code",
   "execution_count": null,
   "metadata": {
    "id": "a2QCe4VBCrbO"
   },
   "outputs": [],
   "source": [
    "# ここに自作問題の回答（pythonプログラム）を書いてください"
   ]
  },
  {
   "cell_type": "markdown",
   "metadata": {
    "id": "umEyRyXcCreP"
   },
   "source": [
    "第123問\n",
    "次の問題に答えなさい\n",
    "\n",
    "(ここから以降に自作問題を書いてください)"
   ]
  },
  {
   "cell_type": "code",
   "execution_count": null,
   "metadata": {
    "id": "4O8hTRm1CreP"
   },
   "outputs": [],
   "source": [
    "# ここに自作問題の回答（pythonプログラム）を書いてください"
   ]
  },
  {
   "cell_type": "markdown",
   "metadata": {
    "id": "KwYGejn-CrhQ"
   },
   "source": [
    "第124問\n",
    "次の問題に答えなさい\n",
    "\n",
    "(ここから以降に自作問題を書いてください)"
   ]
  },
  {
   "cell_type": "code",
   "execution_count": null,
   "metadata": {
    "id": "B_VivzF6CrhQ"
   },
   "outputs": [],
   "source": [
    "# ここに自作問題の回答（pythonプログラム）を書いてください"
   ]
  },
  {
   "cell_type": "markdown",
   "metadata": {
    "id": "vhsMKB9hCrkH"
   },
   "source": [
    "第125問\n",
    "次の問題に答えなさい\n",
    "\n",
    "(ここから以降に自作問題を書いてください)"
   ]
  },
  {
   "cell_type": "code",
   "execution_count": null,
   "metadata": {
    "id": "RJNq3ugACrkH"
   },
   "outputs": [],
   "source": [
    "# ここに自作問題の回答（pythonプログラム）を書いてください"
   ]
  },
  {
   "cell_type": "markdown",
   "metadata": {
    "id": "Y3uq60_6CrnB"
   },
   "source": [
    "第126問\n",
    "次の問題に答えなさい\n",
    "\n",
    "(ここから以降に自作問題を書いてください)"
   ]
  },
  {
   "cell_type": "code",
   "execution_count": null,
   "metadata": {
    "id": "0GKPv6wQCrnC"
   },
   "outputs": [],
   "source": [
    "# ここに自作問題の回答（pythonプログラム）を書いてください"
   ]
  },
  {
   "cell_type": "markdown",
   "metadata": {
    "id": "XN3TsDGZCrp_"
   },
   "source": [
    "第127問\n",
    "次の問題に答えなさい\n",
    "\n",
    "(ここから以降に自作問題を書いてください)"
   ]
  },
  {
   "cell_type": "code",
   "execution_count": null,
   "metadata": {
    "id": "znVvLmj5Crp_"
   },
   "outputs": [],
   "source": [
    "# ここに自作問題の回答（pythonプログラム）を書いてください"
   ]
  },
  {
   "cell_type": "markdown",
   "metadata": {
    "id": "XdbC6sXkCrtX"
   },
   "source": [
    "第128問\n",
    "次の問題に答えなさい\n",
    "\n",
    "(ここから以降に自作問題を書いてください)"
   ]
  },
  {
   "cell_type": "code",
   "execution_count": null,
   "metadata": {
    "id": "S8qvg81yCrtY"
   },
   "outputs": [],
   "source": [
    "# ここに自作問題の回答（pythonプログラム）を書いてください"
   ]
  },
  {
   "cell_type": "markdown",
   "metadata": {
    "id": "Z9AjRXyHCrwP"
   },
   "source": [
    "第129問\n",
    "次の問題に答えなさい\n",
    "\n",
    "(ここから以降に自作問題を書いてください)"
   ]
  },
  {
   "cell_type": "code",
   "execution_count": null,
   "metadata": {
    "id": "rlHlf6U3CrwQ"
   },
   "outputs": [],
   "source": [
    "# ここに自作問題の回答（pythonプログラム）を書いてください"
   ]
  },
  {
   "cell_type": "markdown",
   "metadata": {
    "id": "CQd48-cECrzR"
   },
   "source": [
    "第130問\n",
    "次の問題に答えなさい\n",
    "\n",
    "(ここから以降に自作問題を書いてください)"
   ]
  },
  {
   "cell_type": "code",
   "execution_count": null,
   "metadata": {
    "id": "iG8QPyHHCrzR"
   },
   "outputs": [],
   "source": [
    "# ここに自作問題の回答（pythonプログラム）を書いてください"
   ]
  },
  {
   "cell_type": "markdown",
   "metadata": {
    "id": "rATr9umdCr6s"
   },
   "source": [
    "第131問\n",
    "次の問題に答えなさい\n",
    "\n",
    "(ここから以降に自作問題を書いてください)"
   ]
  },
  {
   "cell_type": "code",
   "execution_count": null,
   "metadata": {
    "id": "Zcllq1fHCr6s"
   },
   "outputs": [],
   "source": [
    "# ここに自作問題の回答（pythonプログラム）を書いてください"
   ]
  },
  {
   "cell_type": "markdown",
   "metadata": {
    "id": "PidDybvdCr9f"
   },
   "source": [
    "第132問\n",
    "次の問題に答えなさい\n",
    "\n",
    "(ここから以降に自作問題を書いてください)"
   ]
  },
  {
   "cell_type": "code",
   "execution_count": null,
   "metadata": {
    "id": "lJq8OvcjCr9g"
   },
   "outputs": [],
   "source": [
    "# ここに自作問題の回答（pythonプログラム）を書いてください"
   ]
  },
  {
   "cell_type": "markdown",
   "metadata": {
    "id": "Vi9Lr1UNCsAf"
   },
   "source": [
    "第133問\n",
    "次の問題に答えなさい\n",
    "\n",
    "(ここから以降に自作問題を書いてください)"
   ]
  },
  {
   "cell_type": "code",
   "execution_count": null,
   "metadata": {
    "id": "_zIB5zJuCsAg"
   },
   "outputs": [],
   "source": [
    "# ここに自作問題の回答（pythonプログラム）を書いてください"
   ]
  },
  {
   "cell_type": "markdown",
   "metadata": {
    "id": "Uyci6GsFCsDo"
   },
   "source": [
    "第134問\n",
    "次の問題に答えなさい\n",
    "\n",
    "(ここから以降に自作問題を書いてください)"
   ]
  },
  {
   "cell_type": "code",
   "execution_count": null,
   "metadata": {
    "id": "GzznuciRCsDo"
   },
   "outputs": [],
   "source": [
    "# ここに自作問題の回答（pythonプログラム）を書いてください"
   ]
  },
  {
   "cell_type": "markdown",
   "metadata": {
    "id": "QkKtCFTTCsGn"
   },
   "source": [
    "第135問\n",
    "次の問題に答えなさい\n",
    "\n",
    "(ここから以降に自作問題を書いてください)"
   ]
  },
  {
   "cell_type": "code",
   "execution_count": null,
   "metadata": {
    "id": "oDfFgZ4ZCsGo"
   },
   "outputs": [],
   "source": [
    "# ここに自作問題の回答（pythonプログラム）を書いてください"
   ]
  },
  {
   "cell_type": "markdown",
   "metadata": {
    "id": "hgSMw9aSCsJ7"
   },
   "source": [
    "第136問\n",
    "次の問題に答えなさい\n",
    "\n",
    "(ここから以降に自作問題を書いてください)"
   ]
  },
  {
   "cell_type": "code",
   "execution_count": null,
   "metadata": {
    "id": "v-OtHEmPCsJ8"
   },
   "outputs": [],
   "source": [
    "# ここに自作問題の回答（pythonプログラム）を書いてください"
   ]
  },
  {
   "cell_type": "markdown",
   "metadata": {
    "id": "4xvS1QveCsM3"
   },
   "source": [
    "第137問\n",
    "次の問題に答えなさい\n",
    "\n",
    "(ここから以降に自作問題を書いてください)"
   ]
  },
  {
   "cell_type": "code",
   "execution_count": null,
   "metadata": {
    "id": "SsepKbj4CsM3"
   },
   "outputs": [],
   "source": [
    "# ここに自作問題の回答（pythonプログラム）を書いてください"
   ]
  },
  {
   "cell_type": "markdown",
   "metadata": {
    "id": "krcRlQZGCsQA"
   },
   "source": [
    "第138問\n",
    "次の問題に答えなさい\n",
    "\n",
    "(ここから以降に自作問題を書いてください)"
   ]
  },
  {
   "cell_type": "code",
   "execution_count": null,
   "metadata": {
    "id": "C_2LDKgrCsQA"
   },
   "outputs": [],
   "source": [
    "# ここに自作問題の回答（pythonプログラム）を書いてください"
   ]
  },
  {
   "cell_type": "markdown",
   "metadata": {
    "id": "Jxvfr-ukCsTH"
   },
   "source": [
    "第139問\n",
    "次の問題に答えなさい\n",
    "\n",
    "(ここから以降に自作問題を書いてください)"
   ]
  },
  {
   "cell_type": "code",
   "execution_count": null,
   "metadata": {
    "id": "9jwWy8OWCsTI"
   },
   "outputs": [],
   "source": [
    "# ここに自作問題の回答（pythonプログラム）を書いてください"
   ]
  },
  {
   "cell_type": "markdown",
   "metadata": {
    "id": "BxkFnB1ECsWo"
   },
   "source": [
    "第140問\n",
    "次の問題に答えなさい\n",
    "\n",
    "(ここから以降に自作問題を書いてください)"
   ]
  },
  {
   "cell_type": "code",
   "execution_count": null,
   "metadata": {
    "id": "4lAUviyQCsWo"
   },
   "outputs": [],
   "source": [
    "# ここに自作問題の回答（pythonプログラム）を書いてください"
   ]
  },
  {
   "cell_type": "markdown",
   "metadata": {
    "id": "rkTCK0rLCsd3"
   },
   "source": [
    "第141問\n",
    "次の問題に答えなさい\n",
    "\n",
    "(ここから以降に自作問題を書いてください)"
   ]
  },
  {
   "cell_type": "code",
   "execution_count": null,
   "metadata": {
    "id": "KDUhCeQ8Csd3"
   },
   "outputs": [],
   "source": [
    "# ここに自作問題の回答（pythonプログラム）を書いてください"
   ]
  },
  {
   "cell_type": "markdown",
   "metadata": {
    "id": "qGrizQ65Csgn"
   },
   "source": [
    "第142問\n",
    "次の問題に答えなさい\n",
    "\n",
    "(ここから以降に自作問題を書いてください)"
   ]
  },
  {
   "cell_type": "code",
   "execution_count": null,
   "metadata": {
    "id": "HZ_tRCKSCsgn"
   },
   "outputs": [],
   "source": [
    "# ここに自作問題の回答（pythonプログラム）を書いてください"
   ]
  },
  {
   "cell_type": "markdown",
   "metadata": {
    "id": "KZKNgA_DCsjv"
   },
   "source": [
    "第143問\n",
    "次の問題に答えなさい\n",
    "\n",
    "$ 3x + y = 15 $， $ 2x - y = 5 $ の解をグラフ上の交点を利用して示します．\n",
    "\n",
    "`matplotlib` を用いて，２式のグラフを描き，想定される解を赤い点で示してください．\n",
    "\n",
    "ただし，想定される解を，`numpy` の関数を用いてプログラミングによって求める必要はありません．"
   ]
  },
  {
   "cell_type": "code",
   "execution_count": null,
   "metadata": {
    "id": "AYTCSfL2Csjv"
   },
   "outputs": [],
   "source": [
    "from matplotlib import pyplot as plt\n",
    "import numpy as np\n",
    "\n",
    "x = np.linspace(0, 10, 100)\n",
    "y1 = 15 - 3 * x # 式変形\n",
    "y2 = 2 * x - 5 \n",
    "\n",
    "plt.plot(x, y1)\n",
    "plt.plot(x, y2)\n",
    "plt.plot(4, 3, '.', c='r')\n",
    "plt.xlabel(\"x\")\n",
    "plt.ylabel(\"y\")\n",
    "plt.grid()\n",
    "plt.show()"
   ]
  },
  {
   "cell_type": "markdown",
   "metadata": {
    "id": "G0L_PK6WCsmv"
   },
   "source": [
    "第144問\n",
    "次の問題に答えなさい\n",
    "\n",
    "(ここから以降に自作問題を書いてください)"
   ]
  },
  {
   "cell_type": "code",
   "execution_count": null,
   "metadata": {
    "id": "ke--fN9JCsmv"
   },
   "outputs": [],
   "source": [
    "# ここに自作問題の回答（pythonプログラム）を書いてください"
   ]
  },
  {
   "cell_type": "markdown",
   "metadata": {
    "id": "mBsOaouZCspv"
   },
   "source": [
    "第145問\n",
    "次の問題に答えなさい\n",
    "\n",
    "(ここから以降に自作問題を書いてください)"
   ]
  },
  {
   "cell_type": "code",
   "execution_count": null,
   "metadata": {
    "id": "SsqwcDUCCspv"
   },
   "outputs": [],
   "source": [
    "# ここに自作問題の回答（pythonプログラム）を書いてください"
   ]
  },
  {
   "cell_type": "markdown",
   "metadata": {
    "id": "OQG2_Ta1Css3"
   },
   "source": [
    "第146問\n",
    "次の問題に答えなさい\n",
    "\n",
    "(ここから以降に自作問題を書いてください)"
   ]
  },
  {
   "cell_type": "code",
   "execution_count": null,
   "metadata": {
    "id": "pKLRS-6FCss3"
   },
   "outputs": [],
   "source": [
    "# ここに自作問題の回答（pythonプログラム）を書いてください"
   ]
  },
  {
   "cell_type": "markdown",
   "metadata": {
    "id": "60mm047yCsv3"
   },
   "source": [
    "第147問\n",
    "次の問題に答えなさい\n",
    "\n",
    "(ここから以降に自作問題を書いてください)"
   ]
  },
  {
   "cell_type": "code",
   "execution_count": null,
   "metadata": {
    "id": "ryz9mntPCsv4"
   },
   "outputs": [],
   "source": [
    "# ここに自作問題の回答（pythonプログラム）を書いてください"
   ]
  },
  {
   "cell_type": "markdown",
   "metadata": {
    "id": "agzulz-KCsy_"
   },
   "source": [
    "第148問\n",
    "次の問題に答えなさい\n",
    "\n",
    "(ここから以降に自作問題を書いてください)"
   ]
  },
  {
   "cell_type": "code",
   "execution_count": null,
   "metadata": {
    "id": "SnIBHq8jCsy_"
   },
   "outputs": [],
   "source": [
    "# ここに自作問題の回答（pythonプログラム）を書いてください"
   ]
  },
  {
   "cell_type": "markdown",
   "metadata": {
    "id": "6sf9JZcYCs2P"
   },
   "source": [
    "第149問\n",
    "次の問題に答えなさい\n",
    "\n",
    "(ここから以降に自作問題を書いてください)"
   ]
  },
  {
   "cell_type": "code",
   "execution_count": null,
   "metadata": {
    "id": "rVJFr6waCs2P"
   },
   "outputs": [],
   "source": [
    "# ここに自作問題の回答（pythonプログラム）を書いてください"
   ]
  },
  {
   "cell_type": "markdown",
   "metadata": {
    "id": "weeQAsGpwwGU"
   },
   "source": [
    "# 第150問～第199問"
   ]
  },
  {
   "cell_type": "markdown",
   "metadata": {
    "id": "BRF3gImhCs-o"
   },
   "source": [
    "第150問\n",
    "次の問題に答えなさい\n",
    "\n",
    "(ここから以降に自作問題を書いてください)"
   ]
  },
  {
   "cell_type": "code",
   "execution_count": null,
   "metadata": {
    "id": "x1_ZP89pCs-p"
   },
   "outputs": [],
   "source": [
    "# ここに自作問題の回答（pythonプログラム）を書いてください"
   ]
  },
  {
   "cell_type": "markdown",
   "metadata": {
    "id": "rnQo_1MPCtBq"
   },
   "source": [
    "第151問\n",
    "次の問題に答えなさい\n",
    "\n",
    "(ここから以降に自作問題を書いてください)"
   ]
  },
  {
   "cell_type": "code",
   "execution_count": null,
   "metadata": {
    "id": "T1GL7mXYCtBq"
   },
   "outputs": [],
   "source": [
    "# ここに自作問題の回答（pythonプログラム）を書いてください"
   ]
  },
  {
   "cell_type": "markdown",
   "metadata": {
    "id": "iKFtHR-7CtFA"
   },
   "source": [
    "第152問\n",
    "次の問題に答えなさい\n",
    "\n",
    "(ここから以降に自作問題を書いてください)"
   ]
  },
  {
   "cell_type": "code",
   "execution_count": null,
   "metadata": {
    "id": "Z7Cz_4cFCtFB"
   },
   "outputs": [],
   "source": [
    "# ここに自作問題の回答（pythonプログラム）を書いてください"
   ]
  },
  {
   "cell_type": "markdown",
   "metadata": {
    "id": "FcgPk5jPCtHf"
   },
   "source": [
    "第153問\n",
    "次の問題に答えなさい\n",
    "\n",
    "(ここから以降に自作問題を書いてください)"
   ]
  },
  {
   "cell_type": "code",
   "execution_count": null,
   "metadata": {
    "id": "l_bX0nMeCtHf"
   },
   "outputs": [],
   "source": [
    "# ここに自作問題の回答（pythonプログラム）を書いてください"
   ]
  },
  {
   "cell_type": "markdown",
   "metadata": {
    "id": "F7PJEaAmCtK8"
   },
   "source": [
    "第154問\n",
    "次の問題に答えなさい\n",
    "\n",
    "(ここから以降に自作問題を書いてください)"
   ]
  },
  {
   "cell_type": "code",
   "execution_count": null,
   "metadata": {
    "id": "7MXgRqv9CtK9"
   },
   "outputs": [],
   "source": [
    "# ここに自作問題の回答（pythonプログラム）を書いてください"
   ]
  },
  {
   "cell_type": "markdown",
   "metadata": {
    "id": "3lRSTMskCtOB"
   },
   "source": [
    "第155問\n",
    "次の問題に答えなさい\n",
    "\n",
    "(ここから以降に自作問題を書いてください)"
   ]
  },
  {
   "cell_type": "code",
   "execution_count": null,
   "metadata": {
    "id": "rnwc4jNgCtOB"
   },
   "outputs": [],
   "source": [
    "# ここに自作問題の回答（pythonプログラム）を書いてください"
   ]
  },
  {
   "cell_type": "markdown",
   "metadata": {
    "id": "WhPcWt0ICtRE"
   },
   "source": [
    "第156問\n",
    "次の問題に答えなさい\n",
    "\n",
    "(ここから以降に自作問題を書いてください)"
   ]
  },
  {
   "cell_type": "code",
   "execution_count": null,
   "metadata": {
    "id": "KZBpK7xTCtRF"
   },
   "outputs": [],
   "source": [
    "# ここに自作問題の回答（pythonプログラム）を書いてください"
   ]
  },
  {
   "cell_type": "markdown",
   "metadata": {
    "id": "udQyi09hCtUf"
   },
   "source": [
    "第157問\n",
    "次の問題に答えなさい\n",
    "\n",
    "(ここから以降に自作問題を書いてください)"
   ]
  },
  {
   "cell_type": "code",
   "execution_count": null,
   "metadata": {
    "id": "-DDJ_Z5ECtUg"
   },
   "outputs": [],
   "source": [
    "# ここに自作問題の回答（pythonプログラム）を書いてください"
   ]
  },
  {
   "cell_type": "markdown",
   "metadata": {
    "id": "Qdo24pnOCtXz"
   },
   "source": [
    "第158問\n",
    "次の問題に答えなさい\n",
    "\n",
    "(ここから以降に自作問題を書いてください)"
   ]
  },
  {
   "cell_type": "code",
   "execution_count": null,
   "metadata": {
    "id": "7sX0PX-BCtXz"
   },
   "outputs": [],
   "source": [
    "# ここに自作問題の回答（pythonプログラム）を書いてください"
   ]
  },
  {
   "cell_type": "markdown",
   "metadata": {
    "id": "_FnBEWLgCtau"
   },
   "source": [
    "第159問\n",
    "次の問題に答えなさい\n",
    "\n",
    "(ここから以降に自作問題を書いてください)"
   ]
  },
  {
   "cell_type": "code",
   "execution_count": null,
   "metadata": {
    "id": "cJADK55gCtau"
   },
   "outputs": [],
   "source": [
    "# ここに自作問題の回答（pythonプログラム）を書いてください"
   ]
  },
  {
   "cell_type": "markdown",
   "metadata": {
    "id": "jtt_LqJjCtjA"
   },
   "source": [
    "第160問\n",
    "次の問題に答えなさい\n",
    "\n",
    "(ここから以降に自作問題を書いてください)"
   ]
  },
  {
   "cell_type": "code",
   "execution_count": null,
   "metadata": {
    "id": "PyYNzxJPCtjA"
   },
   "outputs": [],
   "source": [
    "# ここに自作問題の回答（pythonプログラム）を書いてください"
   ]
  },
  {
   "cell_type": "markdown",
   "metadata": {
    "id": "lbWjrECSCtl3"
   },
   "source": [
    "第161問\n",
    "次の問題に答えなさい\n",
    "\n",
    "(ここから以降に自作問題を書いてください)"
   ]
  },
  {
   "cell_type": "code",
   "execution_count": null,
   "metadata": {
    "id": "XDBqcSBBCtl3"
   },
   "outputs": [],
   "source": [
    "# ここに自作問題の回答（pythonプログラム）を書いてください"
   ]
  },
  {
   "cell_type": "markdown",
   "metadata": {
    "id": "qY20GolaCto3"
   },
   "source": [
    "第162問\n",
    "次の問題に答えなさい\n",
    "\n",
    "(ここから以降に自作問題を書いてください)"
   ]
  },
  {
   "cell_type": "code",
   "execution_count": null,
   "metadata": {
    "id": "M9Ddv0wRCto3"
   },
   "outputs": [],
   "source": [
    "# ここに自作問題の回答（pythonプログラム）を書いてください"
   ]
  },
  {
   "cell_type": "markdown",
   "metadata": {
    "id": "XLJIeMNBCtr4"
   },
   "source": [
    "第163問\n",
    "次の問題に答えなさい\n",
    "\n",
    "(ここから以降に自作問題を書いてください)"
   ]
  },
  {
   "cell_type": "code",
   "execution_count": null,
   "metadata": {
    "id": "3tna4bz1Ctr5"
   },
   "outputs": [],
   "source": [
    "# ここに自作問題の回答（pythonプログラム）を書いてください"
   ]
  },
  {
   "cell_type": "markdown",
   "metadata": {
    "id": "ohlZCrO0Ctu_"
   },
   "source": [
    "第164問\n",
    "次の問題に答えなさい\n",
    "\n",
    "(ここから以降に自作問題を書いてください)"
   ]
  },
  {
   "cell_type": "code",
   "execution_count": null,
   "metadata": {
    "id": "kcC89X3sCtu_"
   },
   "outputs": [],
   "source": [
    "# ここに自作問題の回答（pythonプログラム）を書いてください"
   ]
  },
  {
   "cell_type": "markdown",
   "metadata": {
    "id": "xikErFTgCtya"
   },
   "source": [
    "第165問\n",
    "次の問題に答えなさい\n",
    "\n",
    "(ここから以降に自作問題を書いてください)"
   ]
  },
  {
   "cell_type": "code",
   "execution_count": null,
   "metadata": {
    "id": "21FIyD2TCtyb"
   },
   "outputs": [],
   "source": [
    "# ここに自作問題の回答（pythonプログラム）を書いてください"
   ]
  },
  {
   "cell_type": "markdown",
   "metadata": {
    "id": "Ugpx1PgkCt1i"
   },
   "source": [
    "第166問\n",
    "次の問題に答えなさい\n",
    "\n",
    "(ここから以降に自作問題を書いてください)"
   ]
  },
  {
   "cell_type": "code",
   "execution_count": null,
   "metadata": {
    "id": "EOrK5ENqCt1j"
   },
   "outputs": [],
   "source": [
    "# ここに自作問題の回答（pythonプログラム）を書いてください"
   ]
  },
  {
   "cell_type": "markdown",
   "metadata": {
    "id": "4LEX9rjBCt4-"
   },
   "source": [
    "第167問\n",
    "次の問題に答えなさい\n",
    "\n",
    "(ここから以降に自作問題を書いてください)"
   ]
  },
  {
   "cell_type": "code",
   "execution_count": null,
   "metadata": {
    "id": "A_dyt37dCt4-"
   },
   "outputs": [],
   "source": [
    "# ここに自作問題の回答（pythonプログラム）を書いてください"
   ]
  },
  {
   "cell_type": "markdown",
   "metadata": {
    "id": "2oq9Z-ItCt8B"
   },
   "source": [
    "第168問\n",
    "次の問題に答えなさい\n",
    "\n",
    "(ここから以降に自作問題を書いてください)"
   ]
  },
  {
   "cell_type": "code",
   "execution_count": null,
   "metadata": {
    "id": "z19xPVQPCt8B"
   },
   "outputs": [],
   "source": [
    "# ここに自作問題の回答（pythonプログラム）を書いてください"
   ]
  },
  {
   "cell_type": "markdown",
   "metadata": {
    "id": "AGgWoo8XCt_H"
   },
   "source": [
    "第169問\n",
    "次の問題に答えなさい\n",
    "\n",
    "(ここから以降に自作問題を書いてください)"
   ]
  },
  {
   "cell_type": "code",
   "execution_count": null,
   "metadata": {
    "id": "P3TJ2Bn_Ct_I"
   },
   "outputs": [],
   "source": [
    "# ここに自作問題の回答（pythonプログラム）を書いてください"
   ]
  },
  {
   "cell_type": "markdown",
   "metadata": {
    "id": "pIr6Dq9ECuI3"
   },
   "source": [
    "第170問\n",
    "次の問題に答えなさい\n",
    "\n",
    "(ここから以降に自作問題を書いてください)"
   ]
  },
  {
   "cell_type": "code",
   "execution_count": null,
   "metadata": {
    "id": "mHXWQLBoCuI3"
   },
   "outputs": [],
   "source": [
    "# ここに自作問題の回答（pythonプログラム）を書いてください"
   ]
  },
  {
   "cell_type": "markdown",
   "metadata": {
    "id": "ImJG2YrZCuL4"
   },
   "source": [
    "第171問\n",
    "次の問題に答えなさい\n",
    "\n",
    "(ここから以降に自作問題を書いてください)"
   ]
  },
  {
   "cell_type": "code",
   "execution_count": null,
   "metadata": {
    "id": "IE3zz6fmCuL4"
   },
   "outputs": [],
   "source": [
    "# ここに自作問題の回答（pythonプログラム）を書いてください"
   ]
  },
  {
   "cell_type": "markdown",
   "metadata": {
    "id": "m6wYrLYeCuO3"
   },
   "source": [
    "第172問\n",
    "次の問題に答えなさい\n",
    "\n",
    "(ここから以降に自作問題を書いてください)"
   ]
  },
  {
   "cell_type": "code",
   "execution_count": null,
   "metadata": {
    "id": "1KOjHNfYCuO4"
   },
   "outputs": [],
   "source": [
    "# ここに自作問題の回答（pythonプログラム）を書いてください"
   ]
  },
  {
   "cell_type": "markdown",
   "metadata": {
    "id": "Jw9Ek2DlCuR4"
   },
   "source": [
    "第173問\n",
    "次の問題に答えなさい\n",
    "\n",
    "(ここから以降に自作問題を書いてください)"
   ]
  },
  {
   "cell_type": "code",
   "execution_count": null,
   "metadata": {
    "id": "USjuVtrjCuR4"
   },
   "outputs": [],
   "source": [
    "# ここに自作問題の回答（pythonプログラム）を書いてください"
   ]
  },
  {
   "cell_type": "markdown",
   "metadata": {
    "id": "NdsYQAYTCuVH"
   },
   "source": [
    "第174問\n",
    "次の問題に答えなさい\n",
    "\n",
    "(ここから以降に自作問題を書いてください)"
   ]
  },
  {
   "cell_type": "code",
   "execution_count": null,
   "metadata": {
    "id": "A0kaERdDCuVH"
   },
   "outputs": [],
   "source": [
    "# ここに自作問題の回答（pythonプログラム）を書いてください"
   ]
  },
  {
   "cell_type": "markdown",
   "metadata": {
    "id": "yceG_kjTCuYp"
   },
   "source": [
    "第175問\n",
    "次の問題に答えなさい\n",
    "\n",
    "(ここから以降に自作問題を書いてください)"
   ]
  },
  {
   "cell_type": "code",
   "execution_count": null,
   "metadata": {
    "id": "eukWxsD9CuYp"
   },
   "outputs": [],
   "source": [
    "# ここに自作問題の回答（pythonプログラム）を書いてください"
   ]
  },
  {
   "cell_type": "markdown",
   "metadata": {
    "id": "tsnHGQefCub2"
   },
   "source": [
    "第176問\n",
    "次の問題に答えなさい\n",
    "\n",
    "(ここから以降に自作問題を書いてください)"
   ]
  },
  {
   "cell_type": "code",
   "execution_count": null,
   "metadata": {
    "id": "KIqmQWFWCub2"
   },
   "outputs": [],
   "source": [
    "# ここに自作問題の回答（pythonプログラム）を書いてください"
   ]
  },
  {
   "cell_type": "markdown",
   "metadata": {
    "id": "hc7T3cJFCufW"
   },
   "source": [
    "第177問\n",
    "次の問題に答えなさい\n",
    "\n",
    "(ここから以降に自作問題を書いてください)"
   ]
  },
  {
   "cell_type": "code",
   "execution_count": null,
   "metadata": {
    "id": "rHAppR6_CufX"
   },
   "outputs": [],
   "source": [
    "# ここに自作問題の回答（pythonプログラム）を書いてください"
   ]
  },
  {
   "cell_type": "markdown",
   "metadata": {
    "id": "kWDt6DMjtNEE"
   },
   "source": [
    "第178問\n",
    "次の問題に答えなさい\n",
    "\n",
    "(ここから以降に自作問題を書いてください)"
   ]
  },
  {
   "cell_type": "code",
   "execution_count": null,
   "metadata": {
    "id": "W168b2aYtPpT"
   },
   "outputs": [],
   "source": [
    "# ここに自作問題の回答（pythonプログラム）を書いてください"
   ]
  },
  {
   "cell_type": "markdown",
   "metadata": {
    "id": "leCPoaMbu4QR"
   },
   "source": []
  },
  {
   "cell_type": "markdown",
   "metadata": {
    "id": "aZi0fXwCu5Ge"
   },
   "source": [
    "第179問\n",
    "次の問題に答えなさい\n",
    "\n",
    "(ここから以降に自作問題を書いてください)"
   ]
  },
  {
   "cell_type": "code",
   "execution_count": null,
   "metadata": {
    "id": "_f5OfVUyu5Ge"
   },
   "outputs": [],
   "source": [
    "# ここに自作問題の回答（pythonプログラム）を書いてください"
   ]
  },
  {
   "cell_type": "markdown",
   "metadata": {
    "id": "eaOJkNCvu5Ge"
   },
   "source": [
    "第180問\n",
    "次の問題に答えなさい\n",
    "\n",
    "(ここから以降に自作問題を書いてください)"
   ]
  },
  {
   "cell_type": "code",
   "execution_count": null,
   "metadata": {
    "id": "RivUjQJXu5Ge"
   },
   "outputs": [],
   "source": [
    "# ここに自作問題の回答（pythonプログラム）を書いてください"
   ]
  },
  {
   "cell_type": "markdown",
   "metadata": {
    "id": "aryx7-hUu5Ge"
   },
   "source": [
    "第181問\n",
    "次の問題に答えなさい\n",
    "\n",
    "(ここから以降に自作問題を書いてください)"
   ]
  },
  {
   "cell_type": "code",
   "execution_count": null,
   "metadata": {
    "id": "8c58yne2u5Ge"
   },
   "outputs": [],
   "source": [
    "# ここに自作問題の回答（pythonプログラム）を書いてください"
   ]
  },
  {
   "cell_type": "markdown",
   "metadata": {
    "id": "ujNkLYbyu5Ge"
   },
   "source": [
    "第182問\n",
    "次の問題に答えなさい\n",
    "\n",
    "(ここから以降に自作問題を書いてください)"
   ]
  },
  {
   "cell_type": "code",
   "execution_count": null,
   "metadata": {
    "id": "5idCVayvu5Gf"
   },
   "outputs": [],
   "source": [
    "# ここに自作問題の回答（pythonプログラム）を書いてください"
   ]
  },
  {
   "cell_type": "markdown",
   "metadata": {
    "id": "aBvTNq8Xu5Gf"
   },
   "source": [
    "第183問\n",
    "次の問題に答えなさい\n",
    "\n",
    "(ここから以降に自作問題を書いてください)"
   ]
  },
  {
   "cell_type": "code",
   "execution_count": null,
   "metadata": {
    "id": "_5XcK-Kuu5Gf"
   },
   "outputs": [],
   "source": [
    "# ここに自作問題の回答（pythonプログラム）を書いてください"
   ]
  },
  {
   "cell_type": "markdown",
   "metadata": {
    "id": "jlpZCTRnu5Gf"
   },
   "source": [
    "第184問\n",
    "次の問題に答えなさい\n",
    "\n",
    "(ここから以降に自作問題を書いてください)"
   ]
  },
  {
   "cell_type": "code",
   "execution_count": null,
   "metadata": {
    "id": "p2JhZwtLu5Gf"
   },
   "outputs": [],
   "source": [
    "# ここに自作問題の回答（pythonプログラム）を書いてください"
   ]
  },
  {
   "cell_type": "markdown",
   "metadata": {
    "id": "s8LBPEUNu5Gf"
   },
   "source": [
    "第185問\n",
    "次の問題に答えなさい\n",
    "\n",
    "(ここから以降に自作問題を書いてください)\n",
    " 次の二つの関数についてプログラムしなさい（グラフとラベル名が表示できれば良い）、ここで、A,Bは振り幅、Tは波形の周期、tは時刻とする。また、波形の最大値が同じであるかを明確に示すためにグリッド線を表示させなさい。\n",
    "\n",
    "0<=t<=40、A,B=2、T=10\n",
    "\n",
    "y1=Asin(2π t/T)\n",
    "\n",
    "y2=Bcos(2π t/T)"
   ]
  },
  {
   "cell_type": "code",
   "execution_count": null,
   "metadata": {
    "id": "jy_zrv91u5Gf"
   },
   "outputs": [],
   "source": [
    "# ここに自作問題の回答（pythonプログラム）を書いてください\n",
    "import numpy as np\n",
    "from matplotlib import pyplot as plt\n",
    "\n",
    "A, B, T = 2, 2, 10\n",
    "t = np.linspace(0,40,100)\n",
    "y1 = A * np.sin(2*np.pi*t/T)\n",
    "y2 = B * np.cos(2*np.pi*t/T)\n",
    "\n",
    "plt.plot(t, y1)\n",
    "plt.plot(t, y2)\n",
    "plt.grid()\n",
    "plt.xlabel('t')\n",
    "plt.ylabel('y1 , y2')\n",
    "plt.show()"
   ]
  },
  {
   "cell_type": "markdown",
   "metadata": {
    "id": "Wxgf4v1Iu5Gf"
   },
   "source": [
    "第186問\n",
    "次の問題に答えなさい\n",
    "\n",
    "(ここから以降に自作問題を書いてください)"
   ]
  },
  {
   "cell_type": "code",
   "execution_count": null,
   "metadata": {
    "id": "Gje15BbSu5Gf"
   },
   "outputs": [],
   "source": [
    "# ここに自作問題の回答（pythonプログラム）を書いてください"
   ]
  },
  {
   "cell_type": "markdown",
   "metadata": {
    "id": "dAuEy0vwu5Gg"
   },
   "source": [
    "第187問\n",
    "次の問題に答えなさい\n",
    "\n",
    "(ここから以降に自作問題を書いてください)"
   ]
  },
  {
   "cell_type": "code",
   "execution_count": null,
   "metadata": {
    "id": "WSGOenN3u5Gg"
   },
   "outputs": [],
   "source": [
    "# ここに自作問題の回答（pythonプログラム）を書いてください"
   ]
  },
  {
   "cell_type": "markdown",
   "metadata": {
    "id": "1GZIe4gnu5Gg"
   },
   "source": [
    "第188問\n",
    "次の問題に答えなさい\n",
    "\n",
    "(ここから以降に自作問題を書いてください)"
   ]
  },
  {
   "cell_type": "code",
   "execution_count": null,
   "metadata": {
    "id": "4SXtLe6Iu5Gg"
   },
   "outputs": [],
   "source": [
    "# ここに自作問題の回答（pythonプログラム）を書いてください"
   ]
  },
  {
   "cell_type": "markdown",
   "metadata": {
    "id": "NAC5SKTEu5Gg"
   },
   "source": [
    "第189問\n",
    "次の問題に答えなさい\n",
    "\n",
    "(ここから以降に自作問題を書いてください)"
   ]
  },
  {
   "cell_type": "code",
   "execution_count": null,
   "metadata": {
    "id": "tEoUT1Wru5Gg"
   },
   "outputs": [],
   "source": [
    "# ここに自作問題の回答（pythonプログラム）を書いてください"
   ]
  },
  {
   "cell_type": "markdown",
   "metadata": {
    "id": "rMRP9Q92u5Gg"
   },
   "source": [
    "第190問\n",
    "次の問題に答えなさい\n",
    "\n",
    "(ここから以降に自作問題を書いてください)"
   ]
  },
  {
   "cell_type": "code",
   "execution_count": null,
   "metadata": {
    "id": "tFIy_90qu5Gg"
   },
   "outputs": [],
   "source": [
    "# ここに自作問題の回答（pythonプログラム）を書いてください"
   ]
  },
  {
   "cell_type": "markdown",
   "metadata": {
    "id": "OOEzFchwu5Gh"
   },
   "source": [
    "第191問\n",
    "次の問題に答えなさい\n",
    "\n",
    "(ここから以降に自作問題を書いてください)"
   ]
  },
  {
   "cell_type": "code",
   "execution_count": null,
   "metadata": {
    "id": "UVUZkswpu5Gh"
   },
   "outputs": [],
   "source": [
    "# ここに自作問題の回答（pythonプログラム）を書いてください"
   ]
  },
  {
   "cell_type": "markdown",
   "metadata": {
    "id": "5BCp_jzlu5Gh"
   },
   "source": [
    "第192問\n",
    "次の問題に答えなさい\n",
    "\n",
    "(ここから以降に自作問題を書いてください)"
   ]
  },
  {
   "cell_type": "code",
   "execution_count": null,
   "metadata": {
    "id": "zUsuuRIqu5Gh"
   },
   "outputs": [],
   "source": [
    "# ここに自作問題の回答（pythonプログラム）を書いてください"
   ]
  },
  {
   "cell_type": "markdown",
   "metadata": {
    "id": "QKG7Y_9Qu5Gh"
   },
   "source": [
    "第193問\n",
    "次の問題に答えなさい\n",
    "\n",
    "(ここから以降に自作問題を書いてください)"
   ]
  },
  {
   "cell_type": "code",
   "execution_count": null,
   "metadata": {
    "id": "K4PVyq0iu5Gh"
   },
   "outputs": [],
   "source": [
    "# ここに自作問題の回答（pythonプログラム）を書いてください"
   ]
  },
  {
   "cell_type": "markdown",
   "metadata": {
    "id": "x2TR0lG9u5Gh"
   },
   "source": [
    "第194問\n",
    "次の問題に答えなさい\n",
    "\n",
    "(ここから以降に自作問題を書いてください)"
   ]
  },
  {
   "cell_type": "code",
   "execution_count": null,
   "metadata": {
    "id": "Nzpok64vu5Gh"
   },
   "outputs": [],
   "source": [
    "# ここに自作問題の回答（pythonプログラム）を書いてください"
   ]
  },
  {
   "cell_type": "markdown",
   "metadata": {
    "id": "VRqsyCEHu5Gh"
   },
   "source": [
    "第195問\n",
    "次の問題に答えなさい\n",
    "\n",
    "(ここから以降に自作問題を書いてください)"
   ]
  },
  {
   "cell_type": "code",
   "execution_count": null,
   "metadata": {
    "id": "94vjAPpuu5Gi"
   },
   "outputs": [],
   "source": [
    "# ここに自作問題の回答（pythonプログラム）を書いてください"
   ]
  },
  {
   "cell_type": "markdown",
   "metadata": {
    "id": "eqNS6eCyu5Gi"
   },
   "source": [
    "第196問\n",
    "次の問題に答えなさい\n",
    "\n",
    "(ここから以降に自作問題を書いてください)"
   ]
  },
  {
   "cell_type": "code",
   "execution_count": null,
   "metadata": {
    "id": "-aet9OVau5Gi"
   },
   "outputs": [],
   "source": [
    "# ここに自作問題の回答（pythonプログラム）を書いてください"
   ]
  },
  {
   "cell_type": "markdown",
   "metadata": {
    "id": "ZFVg0mjPu5Gi"
   },
   "source": [
    "第197問\n",
    "次の問題に答えなさい\n",
    "\n",
    "(ここから以降に自作問題を書いてください)"
   ]
  },
  {
   "cell_type": "code",
   "execution_count": null,
   "metadata": {
    "id": "rYeU4-lFu5Gi"
   },
   "outputs": [],
   "source": [
    "# ここに自作問題の回答（pythonプログラム）を書いてください"
   ]
  },
  {
   "cell_type": "markdown",
   "metadata": {
    "id": "3n6zqSiwu5Gi"
   },
   "source": [
    "第198問\n",
    "次の問題に答えなさい\n",
    "\n",
    "(ここから以降に自作問題を書いてください)"
   ]
  },
  {
   "cell_type": "code",
   "execution_count": null,
   "metadata": {
    "id": "ckX9Lm9ru5Gi"
   },
   "outputs": [],
   "source": [
    "# ここに自作問題の回答（pythonプログラム）を書いてください"
   ]
  },
  {
   "cell_type": "markdown",
   "metadata": {
    "id": "ONRkG2awu5Gi"
   },
   "source": [
    "第199問\n",
    "次の問題に答えなさい\n",
    "\n",
    "(ここから以降に自作問題を書いてください)"
   ]
  },
  {
   "cell_type": "code",
   "execution_count": null,
   "metadata": {
    "id": "ZAKR8__Fu5Gj"
   },
   "outputs": [],
   "source": [
    "# ここに自作問題の回答（pythonプログラム）を書いてください"
   ]
  },
  {
   "cell_type": "markdown",
   "metadata": {
    "id": "FH9NTCURwmU-"
   },
   "source": [
    "# 第200問～第250問"
   ]
  },
  {
   "cell_type": "markdown",
   "metadata": {
    "id": "IDAHU8eJu5Gj"
   },
   "source": [
    "第200問\n",
    "次の問題に答えなさい\n",
    "\n",
    "(ここから以降に自作問題を書いてください)"
   ]
  },
  {
   "cell_type": "code",
   "execution_count": null,
   "metadata": {
    "id": "y7FAiBJOu5Gj"
   },
   "outputs": [],
   "source": [
    "# ここに自作問題の回答（pythonプログラム）を書いてください"
   ]
  },
  {
   "cell_type": "markdown",
   "metadata": {
    "id": "_6QBBIRau5Gj"
   },
   "source": [
    "第201問\n",
    "次の問題に答えなさい\n",
    "\n",
    "(ここから以降に自作問題を書いてください)"
   ]
  },
  {
   "cell_type": "code",
   "execution_count": null,
   "metadata": {
    "id": "yIlqxYOou5Gj"
   },
   "outputs": [],
   "source": [
    "# ここに自作問題の回答（pythonプログラム）を書いてください"
   ]
  },
  {
   "cell_type": "markdown",
   "metadata": {
    "id": "OFmaKYEMu5Gj"
   },
   "source": [
    "第202問\n",
    "次の問題に答えなさい\n",
    "\n",
    "(ここから以降に自作問題を書いてください)"
   ]
  },
  {
   "cell_type": "code",
   "execution_count": null,
   "metadata": {
    "id": "JATc2qEDu5Gj"
   },
   "outputs": [],
   "source": [
    "# ここに自作問題の回答（pythonプログラム）を書いてください"
   ]
  },
  {
   "cell_type": "markdown",
   "metadata": {
    "id": "teEIBn0Mu5Gj"
   },
   "source": [
    "第203問\n",
    "次の問題に答えなさい\n",
    "\n",
    "(ここから以降に自作問題を書いてください)"
   ]
  },
  {
   "cell_type": "code",
   "execution_count": null,
   "metadata": {
    "id": "Mg8Ys7O0u5Gj"
   },
   "outputs": [],
   "source": [
    "# ここに自作問題の回答（pythonプログラム）を書いてください"
   ]
  },
  {
   "cell_type": "markdown",
   "metadata": {
    "id": "FetVnqflu5Gj"
   },
   "source": [
    "第204問\n",
    "次の問題に答えなさい\n",
    "\n",
    "(ここから以降に自作問題を書いてください)"
   ]
  },
  {
   "cell_type": "code",
   "execution_count": null,
   "metadata": {
    "id": "_GbZtsd4u5Gk"
   },
   "outputs": [],
   "source": [
    "# ここに自作問題の回答（pythonプログラム）を書いてください"
   ]
  },
  {
   "cell_type": "markdown",
   "metadata": {
    "id": "h1rLA9Ylu5Gk"
   },
   "source": [
    "第205問\n",
    "次の問題に答えなさい\n",
    "\n",
    "(ここから以降に自作問題を書いてください)"
   ]
  },
  {
   "cell_type": "code",
   "execution_count": null,
   "metadata": {
    "id": "CfjnTjaQu5Gk"
   },
   "outputs": [],
   "source": [
    "# ここに自作問題の回答（pythonプログラム）を書いてください"
   ]
  },
  {
   "cell_type": "markdown",
   "metadata": {
    "id": "8P4rAehyu5Gk"
   },
   "source": [
    "第206問\n",
    "次の問題に答えなさい\n",
    "\n",
    "(ここから以降に自作問題を書いてください)"
   ]
  },
  {
   "cell_type": "code",
   "execution_count": null,
   "metadata": {
    "id": "IH0aeNw2u5Gk"
   },
   "outputs": [],
   "source": [
    "# ここに自作問題の回答（pythonプログラム）を書いてください"
   ]
  },
  {
   "cell_type": "markdown",
   "metadata": {
    "id": "b68BqbSOu5Gk"
   },
   "source": [
    "第207問\n",
    "次の問題に答えなさい\n",
    "\n",
    "(ここから以降に自作問題を書いてください)"
   ]
  },
  {
   "cell_type": "code",
   "execution_count": null,
   "metadata": {
    "id": "FpKkrhozu5Gk"
   },
   "outputs": [],
   "source": [
    "# ここに自作問題の回答（pythonプログラム）を書いてください"
   ]
  },
  {
   "cell_type": "markdown",
   "metadata": {
    "id": "7qSmUDXxu5Gk"
   },
   "source": [
    "第208問\n",
    "次の問題に答えなさい\n",
    "\n",
    "(ここから以降に自作問題を書いてください)"
   ]
  },
  {
   "cell_type": "code",
   "execution_count": null,
   "metadata": {
    "id": "7RrX6b5mu5Gl"
   },
   "outputs": [],
   "source": [
    "# ここに自作問題の回答（pythonプログラム）を書いてください"
   ]
  },
  {
   "cell_type": "markdown",
   "metadata": {
    "id": "nM1mjpSlu5Gl"
   },
   "source": [
    "第209問\n",
    "次の問題に答えなさい\n",
    "\n",
    "(ここから以降に自作問題を書いてください)"
   ]
  },
  {
   "cell_type": "code",
   "execution_count": null,
   "metadata": {
    "id": "wvus1JkBu5Gl"
   },
   "outputs": [],
   "source": [
    "# ここに自作問題の回答（pythonプログラム）を書いてください"
   ]
  },
  {
   "cell_type": "markdown",
   "metadata": {
    "id": "H9-eU81Gu5Gl"
   },
   "source": [
    "第210問\n",
    "次の問題に答えなさい\n",
    "\n",
    "(ここから以降に自作問題を書いてください)"
   ]
  },
  {
   "cell_type": "code",
   "execution_count": null,
   "metadata": {
    "id": "f6ezAxGsu5Gl"
   },
   "outputs": [],
   "source": [
    "# ここに自作問題の回答（pythonプログラム）を書いてください"
   ]
  },
  {
   "cell_type": "markdown",
   "metadata": {
    "id": "J2IdjFnZu5Gl"
   },
   "source": [
    "第211問\n",
    "次の問題に答えなさい\n",
    "\n",
    "(ここから以降に自作問題を書いてください)"
   ]
  },
  {
   "cell_type": "code",
   "execution_count": null,
   "metadata": {
    "id": "6TZE12xhu5Gl"
   },
   "outputs": [],
   "source": [
    "# ここに自作問題の回答（pythonプログラム）を書いてください"
   ]
  },
  {
   "cell_type": "markdown",
   "metadata": {
    "id": "1svd98CVu5Gl"
   },
   "source": [
    "第212問\n",
    "次の問題に答えなさい\n",
    "\n",
    "(ここから以降に自作問題を書いてください)"
   ]
  },
  {
   "cell_type": "code",
   "execution_count": null,
   "metadata": {
    "id": "RGpF6i1vu5Gm"
   },
   "outputs": [],
   "source": [
    "# ここに自作問題の回答（pythonプログラム）を書いてください"
   ]
  },
  {
   "cell_type": "markdown",
   "metadata": {
    "id": "zXT9BE5Yu5Gm"
   },
   "source": [
    "第213問\n",
    "次の問題に答えなさい\n",
    "\n",
    "(ここから以降に自作問題を書いてください)"
   ]
  },
  {
   "cell_type": "code",
   "execution_count": null,
   "metadata": {
    "id": "_J1e3w_Hu5Gm"
   },
   "outputs": [],
   "source": [
    "# ここに自作問題の回答（pythonプログラム）を書いてください"
   ]
  },
  {
   "cell_type": "markdown",
   "metadata": {
    "id": "v4oCQ31ku5Gm"
   },
   "source": [
    "第214問\n",
    "次の問題に答えなさい\n",
    "\n",
    "(ここから以降に自作問題を書いてください)"
   ]
  },
  {
   "cell_type": "code",
   "execution_count": null,
   "metadata": {
    "id": "FXu0Uyfdu5Gm"
   },
   "outputs": [],
   "source": [
    "# ここに自作問題の回答（pythonプログラム）を書いてください"
   ]
  },
  {
   "cell_type": "markdown",
   "metadata": {
    "id": "qj0fD3nVu5Gm"
   },
   "source": [
    "第215問\n",
    "次の問題に答えなさい\n",
    "\n",
    "(ここから以降に自作問題を書いてください)"
   ]
  },
  {
   "cell_type": "code",
   "execution_count": null,
   "metadata": {
    "id": "y1rFKVa2u5Gm"
   },
   "outputs": [],
   "source": [
    "# ここに自作問題の回答（pythonプログラム）を書いてください"
   ]
  },
  {
   "cell_type": "markdown",
   "metadata": {
    "id": "q9CBFVvGu5Gm"
   },
   "source": [
    "第216問\n",
    "次の問題に答えなさい\n",
    "\n",
    "(ここから以降に自作問題を書いてください)"
   ]
  },
  {
   "cell_type": "code",
   "execution_count": null,
   "metadata": {
    "id": "Tt28Pv3Zu5Gm"
   },
   "outputs": [],
   "source": [
    "# ここに自作問題の回答（pythonプログラム）を書いてください"
   ]
  },
  {
   "cell_type": "markdown",
   "metadata": {
    "id": "9cBVhrcWu5Gn"
   },
   "source": [
    "第217問\n",
    "次の問題に答えなさい\n",
    "\n",
    "(ここから以降に自作問題を書いてください)"
   ]
  },
  {
   "cell_type": "code",
   "execution_count": null,
   "metadata": {
    "id": "MtocmBFqu5Gn"
   },
   "outputs": [],
   "source": [
    "# ここに自作問題の回答（pythonプログラム）を書いてください"
   ]
  },
  {
   "cell_type": "markdown",
   "metadata": {
    "id": "XmHf3y4Lu5Gn"
   },
   "source": [
    "第218問\n",
    "次の問題に答えなさい\n",
    "\n",
    "(ここから以降に自作問題を書いてください)"
   ]
  },
  {
   "cell_type": "code",
   "execution_count": null,
   "metadata": {
    "id": "ymK6j08tu5Gn"
   },
   "outputs": [],
   "source": [
    "# ここに自作問題の回答（pythonプログラム）を書いてください"
   ]
  },
  {
   "cell_type": "markdown",
   "metadata": {
    "id": "6GUwUI6gu5Gn"
   },
   "source": [
    "第219問\n",
    "次の問題に答えなさい\n",
    "\n",
    "(ここから以降に自作問題を書いてください)"
   ]
  },
  {
   "cell_type": "code",
   "execution_count": null,
   "metadata": {
    "id": "1F1F1kVAu5Gn"
   },
   "outputs": [],
   "source": [
    "# ここに自作問題の回答（pythonプログラム）を書いてください"
   ]
  },
  {
   "cell_type": "markdown",
   "metadata": {
    "id": "SscurGbDu5Gn"
   },
   "source": [
    "第220問\n",
    "次の問題に答えなさい\n",
    "\n",
    "(ここから以降に自作問題を書いてください)"
   ]
  },
  {
   "cell_type": "code",
   "execution_count": null,
   "metadata": {
    "id": "0rnpvU3_u5Gn"
   },
   "outputs": [],
   "source": [
    "# ここに自作問題の回答（pythonプログラム）を書いてください"
   ]
  },
  {
   "cell_type": "markdown",
   "metadata": {
    "id": "UcbIuzndu5Gn"
   },
   "source": [
    "第221問\n",
    "次の問題に答えなさい\n",
    "\n",
    "(ここから以降に自作問題を書いてください)"
   ]
  },
  {
   "cell_type": "code",
   "execution_count": null,
   "metadata": {
    "id": "OarBrUC8u5Gn"
   },
   "outputs": [],
   "source": [
    "# ここに自作問題の回答（pythonプログラム）を書いてください"
   ]
  },
  {
   "cell_type": "markdown",
   "metadata": {
    "id": "hdidzm0ku5Go"
   },
   "source": [
    "第222問\n",
    "次の問題に答えなさい\n",
    "\n",
    "(ここから以降に自作問題を書いてください)"
   ]
  },
  {
   "cell_type": "code",
   "execution_count": null,
   "metadata": {
    "id": "K4-HKe9_u5Go"
   },
   "outputs": [],
   "source": [
    "# ここに自作問題の回答（pythonプログラム）を書いてください"
   ]
  },
  {
   "cell_type": "markdown",
   "metadata": {
    "id": "Xltk0nFiu5Go"
   },
   "source": [
    "第223問\n",
    "次の問題に答えなさい\n",
    "\n",
    "(ここから以降に自作問題を書いてください)"
   ]
  },
  {
   "cell_type": "code",
   "execution_count": null,
   "metadata": {
    "id": "IPkXppTPu5Go"
   },
   "outputs": [],
   "source": [
    "# ここに自作問題の回答（pythonプログラム）を書いてください"
   ]
  },
  {
   "cell_type": "markdown",
   "metadata": {
    "id": "SYc5szMDu5Go"
   },
   "source": [
    "第224問\n",
    "次の問題に答えなさい\n",
    "\n",
    "以下の関数の-10から10までの範囲のグラフをグリッド線を用いて表示しなさい。\n",
    "\n",
    "y=x^3+2x^2+7x+4"
   ]
  },
  {
   "cell_type": "code",
   "execution_count": null,
   "metadata": {
    "id": "J7Powk57u5Go"
   },
   "outputs": [],
   "source": [
    "# ここに自作問題の回答（pythonプログラム）を書いてください\n",
    "import numpy as np\n",
    "import matplotlib.pyplot as plt\n",
    "x=np.linspace(-10,10,1000)\n",
    "y=x**3+2*x**2+7*x+4\n",
    "plt.plot(x,y)\n",
    "plt.grid()\n",
    "plt.show()"
   ]
  },
  {
   "cell_type": "markdown",
   "metadata": {
    "id": "JFZK6GUzu5Go"
   },
   "source": [
    "第225問\n",
    "次の問題に答えなさい\n",
    "\n",
    "(ここから以降に自作問題を書いてください)"
   ]
  },
  {
   "cell_type": "code",
   "execution_count": null,
   "metadata": {
    "id": "RwGOY-z9u5Go"
   },
   "outputs": [],
   "source": [
    "# ここに自作問題の回答（pythonプログラム）を書いてください"
   ]
  },
  {
   "cell_type": "markdown",
   "metadata": {
    "id": "mHVnS5WXu5Go"
   },
   "source": [
    "第226問\n",
    "次の問題に答えなさい\n",
    "\n",
    "(ここから以降に自作問題を書いてください)"
   ]
  },
  {
   "cell_type": "code",
   "execution_count": null,
   "metadata": {
    "id": "8tLTBClau5Go"
   },
   "outputs": [],
   "source": [
    "# ここに自作問題の回答（pythonプログラム）を書いてください"
   ]
  },
  {
   "cell_type": "markdown",
   "metadata": {
    "id": "nEB1Xz92u5Go"
   },
   "source": [
    "第227問\n",
    "次の問題に答えなさい\n",
    "\n",
    "(ここから以降に自作問題を書いてください)"
   ]
  },
  {
   "cell_type": "code",
   "execution_count": null,
   "metadata": {
    "id": "elsybWDOu5Gp"
   },
   "outputs": [],
   "source": [
    "# ここに自作問題の回答（pythonプログラム）を書いてください"
   ]
  },
  {
   "cell_type": "markdown",
   "metadata": {
    "id": "zcwZi5IQu5Gp"
   },
   "source": [
    "第228問\n",
    "次の問題に答えなさい\n",
    "\n",
    "(ここから以降に自作問題を書いてください)"
   ]
  },
  {
   "cell_type": "code",
   "execution_count": null,
   "metadata": {
    "id": "fyh65Ovzu5Gp"
   },
   "outputs": [],
   "source": [
    "# ここに自作問題の回答（pythonプログラム）を書いてください"
   ]
  },
  {
   "cell_type": "markdown",
   "metadata": {
    "id": "0W5vxCp5u5Gp"
   },
   "source": [
    "第229問\n",
    "次の問題に答えなさい\n",
    "\n",
    "(ここから以降に自作問題を書いてください)"
   ]
  },
  {
   "cell_type": "code",
   "execution_count": null,
   "metadata": {
    "id": "ZcyHKVZzu5Gp"
   },
   "outputs": [],
   "source": [
    "# ここに自作問題の回答（pythonプログラム）を書いてください"
   ]
  },
  {
   "cell_type": "markdown",
   "metadata": {
    "id": "ai_JbusLu5Gp"
   },
   "source": [
    "第230問\n",
    "次の問題に答えなさい\n",
    "\n",
    "(ここから以降に自作問題を書いてください)"
   ]
  },
  {
   "cell_type": "code",
   "execution_count": null,
   "metadata": {
    "id": "Pym9RTdIu5Gp"
   },
   "outputs": [],
   "source": [
    "# ここに自作問題の回答（pythonプログラム）を書いてください"
   ]
  },
  {
   "cell_type": "markdown",
   "metadata": {
    "id": "_HS7r-jxu5Gp"
   },
   "source": [
    "第231問\n",
    "次の問題に答えなさい\n",
    "\n",
    "(ここから以降に自作問題を書いてください)"
   ]
  },
  {
   "cell_type": "code",
   "execution_count": null,
   "metadata": {
    "id": "aUmjtIZ3u5Gp"
   },
   "outputs": [],
   "source": [
    "# ここに自作問題の回答（pythonプログラム）を書いてください"
   ]
  },
  {
   "cell_type": "markdown",
   "metadata": {
    "id": "Xc8e0H1iu5Gp"
   },
   "source": [
    "第232問\n",
    "次の問題に答えなさい\n",
    "\n",
    "(ここから以降に自作問題を書いてください)"
   ]
  },
  {
   "cell_type": "code",
   "execution_count": null,
   "metadata": {
    "id": "tkJDBRZXu5Gq"
   },
   "outputs": [],
   "source": [
    "# ここに自作問題の回答（pythonプログラム）を書いてください"
   ]
  },
  {
   "cell_type": "markdown",
   "metadata": {
    "id": "GZmYAikAu5Gq"
   },
   "source": [
    "第233問\n",
    "次の問題に答えなさい\n",
    "\n",
    "(ここから以降に自作問題を書いてください)"
   ]
  },
  {
   "cell_type": "code",
   "execution_count": null,
   "metadata": {
    "id": "zt9DTqtcu5Gq"
   },
   "outputs": [],
   "source": [
    "# ここに自作問題の回答（pythonプログラム）を書いてください"
   ]
  },
  {
   "cell_type": "markdown",
   "metadata": {
    "id": "fx0crMgHu5Gq"
   },
   "source": [
    "第234問\n",
    "次の問題に答えなさい\n",
    "\n",
    "(ここから以降に自作問題を書いてください)\n",
    "\n",
    "2×3を計算し結果を表示する"
   ]
  },
  {
   "cell_type": "code",
   "execution_count": null,
   "metadata": {
    "colab": {
     "base_uri": "https://localhost:8080/"
    },
    "id": "Vw7lhieju5Gq",
    "outputId": "9684ffe6-1bf2-4867-eae0-5a5499e57eeb"
   },
   "outputs": [
    {
     "name": "stdout",
     "output_type": "stream",
     "text": [
      "6\n"
     ]
    }
   ],
   "source": [
    "# ここに自作問題の回答（pythonプログラム）を書いてください\n",
    "print(2*3)"
   ]
  },
  {
   "cell_type": "markdown",
   "metadata": {
    "id": "uA-5JA8au5Gq"
   },
   "source": [
    "第235問\n",
    "次の問題に答えなさい\n",
    "\n",
    "(ここから以降に自作問題を書いてください)"
   ]
  },
  {
   "cell_type": "code",
   "execution_count": null,
   "metadata": {
    "id": "buSvan70u5Gq"
   },
   "outputs": [],
   "source": [
    "# ここに自作問題の回答（pythonプログラム）を書いてください"
   ]
  },
  {
   "cell_type": "markdown",
   "metadata": {
    "id": "788A3KiIu5Gq"
   },
   "source": [
    "第236問\n",
    "次の問題に答えなさい\n",
    "\n",
    "(ここから以降に自作問題を書いてください)"
   ]
  },
  {
   "cell_type": "code",
   "execution_count": null,
   "metadata": {
    "id": "B0sfe2geu5Gq"
   },
   "outputs": [],
   "source": [
    "# ここに自作問題の回答（pythonプログラム）を書いてください"
   ]
  },
  {
   "cell_type": "markdown",
   "metadata": {
    "id": "IN0XY1ESu5Gq"
   },
   "source": [
    "第237問\n",
    "次の問題に答えなさい\n",
    "\n",
    "(ここから以降に自作問題を書いてください)"
   ]
  },
  {
   "cell_type": "code",
   "execution_count": null,
   "metadata": {
    "id": "L_wdAGhdu5Gr"
   },
   "outputs": [],
   "source": [
    "# ここに自作問題の回答（pythonプログラム）を書いてください"
   ]
  },
  {
   "cell_type": "markdown",
   "metadata": {
    "id": "yFdxtGHJu5Gr"
   },
   "source": [
    "第238問\n",
    "次の問題に答えなさい\n",
    "\n",
    "(ここから以降に自作問題を書いてください)"
   ]
  },
  {
   "cell_type": "code",
   "execution_count": null,
   "metadata": {
    "id": "2--_E8TCu5Gr"
   },
   "outputs": [],
   "source": [
    "# ここに自作問題の回答（pythonプログラム）を書いてください"
   ]
  },
  {
   "cell_type": "markdown",
   "metadata": {
    "id": "zhg_mdIhu5Gr"
   },
   "source": [
    "第239問\n",
    "次の問題に答えなさい\n",
    "\n",
    "(ここから以降に自作問題を書いてください)"
   ]
  },
  {
   "cell_type": "code",
   "execution_count": null,
   "metadata": {
    "id": "1ZomFKECu5Gr"
   },
   "outputs": [],
   "source": [
    "# ここに自作問題の回答（pythonプログラム）を書いてください"
   ]
  },
  {
   "cell_type": "markdown",
   "metadata": {
    "id": "TdotEAqEu5Gr"
   },
   "source": [
    "第240問\n",
    "次の問題に答えなさい\n",
    "\n",
    "(ここから以降に自作問題を書いてください)"
   ]
  },
  {
   "cell_type": "code",
   "execution_count": null,
   "metadata": {
    "id": "JCjKFp_Gu5Gr"
   },
   "outputs": [],
   "source": [
    "# ここに自作問題の回答（pythonプログラム）を書いてください"
   ]
  },
  {
   "cell_type": "markdown",
   "metadata": {
    "id": "zw5KiB97u5Gr"
   },
   "source": [
    "第241問\n",
    "次の問題に答えなさい\n",
    "\n",
    "(ここから以降に自作問題を書いてください)"
   ]
  },
  {
   "cell_type": "code",
   "execution_count": null,
   "metadata": {
    "id": "vkHU9VBnu5Gr"
   },
   "outputs": [],
   "source": [
    "# ここに自作問題の回答（pythonプログラム）を書いてください"
   ]
  },
  {
   "cell_type": "markdown",
   "metadata": {
    "id": "FMAyS5aQu5Gr"
   },
   "source": [
    "第242問\n",
    "次の問題に答えなさい\n",
    "\n",
    "(ここから以降に自作問題を書いてください)"
   ]
  },
  {
   "cell_type": "code",
   "execution_count": null,
   "metadata": {
    "id": "AG9CrZqou5Gs"
   },
   "outputs": [],
   "source": [
    "# ここに自作問題の回答（pythonプログラム）を書いてください"
   ]
  },
  {
   "cell_type": "markdown",
   "metadata": {
    "id": "zT3neff5u5Gs"
   },
   "source": [
    "第243問\n",
    "次の問題に答えなさい\n",
    "\n",
    "(ここから以降に自作問題を書いてください)"
   ]
  },
  {
   "cell_type": "code",
   "execution_count": null,
   "metadata": {
    "id": "DMn7elXEu5Gs"
   },
   "outputs": [],
   "source": [
    "# ここに自作問題の回答（pythonプログラム）を書いてください"
   ]
  },
  {
   "cell_type": "markdown",
   "metadata": {
    "id": "AD-I_JJXu5Gs"
   },
   "source": [
    "第244問\n",
    "次の問題に答えなさい\n",
    "\n",
    "(ここから以降に自作問題を書いてください)"
   ]
  },
  {
   "cell_type": "code",
   "execution_count": null,
   "metadata": {
    "id": "a39DNa-iu5Gs"
   },
   "outputs": [],
   "source": [
    "# ここに自作問題の回答（pythonプログラム）を書いてください"
   ]
  },
  {
   "cell_type": "markdown",
   "metadata": {
    "id": "O1cvYeJ6u5Gs"
   },
   "source": [
    "第245問\n",
    "次の問題に答えなさい\n",
    "\n",
    "(ここから以降に自作問題を書いてください)"
   ]
  },
  {
   "cell_type": "code",
   "execution_count": null,
   "metadata": {
    "id": "zjGXhYF0u5Gs"
   },
   "outputs": [],
   "source": [
    "# ここに自作問題の回答（pythonプログラム）を書いてください"
   ]
  },
  {
   "cell_type": "markdown",
   "metadata": {
    "id": "9Rfu_yz8u5Gs"
   },
   "source": [
    "第246問\n",
    "次の問題に答えなさい\n",
    "\n",
    "(ここから以降に自作問題を書いてください)"
   ]
  },
  {
   "cell_type": "code",
   "execution_count": null,
   "metadata": {
    "id": "jnrIjG2lu5Gs"
   },
   "outputs": [],
   "source": [
    "# ここに自作問題の回答（pythonプログラム）を書いてください"
   ]
  },
  {
   "cell_type": "markdown",
   "metadata": {
    "id": "okvxIsP-u5Gt"
   },
   "source": [
    "第247問\n",
    "次の問題に答えなさい\n",
    "\n",
    "(ここから以降に自作問題を書いてください)"
   ]
  },
  {
   "cell_type": "code",
   "execution_count": null,
   "metadata": {
    "id": "0f8TBWAou5Gt"
   },
   "outputs": [],
   "source": [
    "# ここに自作問題の回答（pythonプログラム）を書いてください"
   ]
  },
  {
   "cell_type": "markdown",
   "metadata": {
    "id": "snw_maqtu5Gt"
   },
   "source": [
    "第248問\n",
    "次の問題に答えなさい\n",
    "\n",
    "(ここから以降に自作問題を書いてください)"
   ]
  },
  {
   "cell_type": "code",
   "execution_count": null,
   "metadata": {
    "id": "Yj5--RZ8u5Gt"
   },
   "outputs": [],
   "source": [
    "# ここに自作問題の回答（pythonプログラム）を書いてください"
   ]
  },
  {
   "cell_type": "markdown",
   "metadata": {
    "id": "uZEau2Lfu5Gt"
   },
   "source": [
    "第249問\n",
    "次の問題に答えなさい\n",
    "\n",
    "(ここから以降に自作問題を書いてください)"
   ]
  },
  {
   "cell_type": "code",
   "execution_count": null,
   "metadata": {
    "id": "3n7H3fiQu5Gt"
   },
   "outputs": [],
   "source": [
    "# ここに自作問題の回答（pythonプログラム）を書いてください"
   ]
  },
  {
   "cell_type": "markdown",
   "metadata": {
    "id": "keP2L3uUu5Gt"
   },
   "source": [
    "第250問\n",
    "次の問題に答えなさい\n",
    "\n",
    "(ここから以降に自作問題を書いてください)"
   ]
  },
  {
   "cell_type": "code",
   "execution_count": null,
   "metadata": {
    "id": "GMFXyn71u5Gt"
   },
   "outputs": [],
   "source": [
    "# ここに自作問題の回答（pythonプログラム）を書いてください"
   ]
  }
 ],
 "metadata": {
  "colab": {
   "include_colab_link": true,
   "name": "Prog2_11.ipynb",
   "provenance": []
  },
  "kernelspec": {
   "display_name": "Python 3",
   "name": "python3"
  },
  "language_info": {
   "name": "python"
  }
 },
 "nbformat": 4,
 "nbformat_minor": 0
}
